{
 "cells": [
  {
   "cell_type": "markdown",
   "metadata": {},
   "source": [
    "# LangGraph 记忆对话最小实现\n",
    "\n",
    "这是一个使用 LangGraph 实现记忆对话的最简单示例。\n",
    "\n",
    "## 特点\n",
    "- 自动管理对话历史\n",
    "- 支持多用户会话\n",
    "- 状态持久化\n",
    "- 代码简洁易懂"
   ]
  },
  {
   "cell_type": "markdown",
   "metadata": {},
   "source": [
    "## 1. 安装依赖"
   ]
  },
  {
   "cell_type": "code",
   "execution_count": null,
   "metadata": {},
   "outputs": [],
   "source": [
    "# 安装必要的包\n",
    "# !pip install langgraph langchain-ollama langchain-core"
   ]
  },
  {
   "cell_type": "markdown",
   "metadata": {},
   "source": [
    "## 2. 导入库"
   ]
  },
  {
   "cell_type": "code",
   "execution_count": null,
   "metadata": {},
   "outputs": [],
   "source": [
    "from typing import Annotated, List\n",
    "from typing_extensions import TypedDict\n",
    "\n",
    "# LangGraph imports\n",
    "from langgraph.graph import StateGraph, START, END\n",
    "from langgraph.graph.message import add_messages\n",
    "from langgraph.checkpoint.memory import MemorySaver\n",
    "\n",
    "# LangChain imports\n",
    "from langchain_core.messages import BaseMessage, HumanMessage, AIMessage, SystemMessage\n",
    "from langchain_ollama import OllamaLLM\n",
    "\n",
    "print(\"✅ 库导入成功\")"
   ]
  },
  {
   "cell_type": "markdown",
   "metadata": {},
   "source": [
    "## 3. 配置模型"
   ]
  },
  {
   "cell_type": "code",
   "execution_count": null,
   "metadata": {},
   "outputs": [],
   "source": [
    "# 配置 Ollama\n",
    "OLLAMA_BASE_URL = \"http://localhost:11434\"\n",
    "OLLAMA_MODEL = \"gemma3:4b\"  # 或者你安装的其他模型\n",
    "\n",
    "# 创建 LLM 实例\n",
    "llm = OllamaLLM(\n",
    "    base_url=OLLAMA_BASE_URL,\n",
    "    model=OLLAMA_MODEL,\n",
    "    temperature=0.7\n",
    ")\n",
    "\n",
    "# 测试连接\n",
    "try:\n",
    "    test_response = llm.invoke(\"Hello\")\n",
    "    print(f\"✅ Ollama 连接成功，模型: {OLLAMA_MODEL}\")\n",
    "    print(f\"测试响应: {test_response[:50]}...\")\n",
    "except Exception as e:\n",
    "    print(f\"❌ Ollama 连接失败: {e}\")\n",
    "    print(\"请确保 Ollama 正在运行: ollama serve\")\n",
    "    print(f\"并安装模型: ollama pull {OLLAMA_MODEL}\")"
   ]
  },
  {
   "cell_type": "markdown",
   "metadata": {},
   "source": [
    "## 4. 定义状态"
   ]
  },
  {
   "cell_type": "code",
   "execution_count": null,
   "metadata": {},
   "outputs": [],
   "source": [
    "# 定义 LangGraph 状态\n",
    "class State(TypedDict):\n",
    "    \"\"\"对话状态定义\"\"\"\n",
    "    messages: Annotated[List[BaseMessage], add_messages]\n",
    "\n",
    "print(\"✅ 状态定义完成\")"
   ]
  },
  {
   "cell_type": "markdown",
   "metadata": {},
   "source": [
    "## 5. 创建聊天节点"
   ]
  },
  {
   "cell_type": "code",
   "execution_count": null,
   "metadata": {},
   "outputs": [],
   "source": [
    "def chatbot_node(state: State):\n",
    "    \"\"\"聊天机器人节点 - 处理用户消息并生成回复\"\"\"\n",
    "    \n",
    "    # 创建系统消息\n",
    "    system_message = SystemMessage(content=\"\"\"你是一个友好的AI助手。\n",
    "你能记住对话历史，并基于之前的对话内容进行回复。\n",
    "请保持友好、有帮助的态度。\"\"\")\n",
    "    \n",
    "    # 准备消息列表：系统消息 + 历史消息\n",
    "    messages = [system_message] + state[\"messages\"]\n",
    "    \n",
    "    # 调用 LLM 生成回复\n",
    "    response = llm.invoke(messages)\n",
    "    \n",
    "    # 返回 AI 消息\n",
    "    return {\"messages\": [AIMessage(content=response)]}\n",
    "\n",
    "print(\"✅ 聊天节点创建完成\")"
   ]
  },
  {
   "cell_type": "markdown",
   "metadata": {},
   "source": [
    "## 6. 构建图和应用"
   ]
  },
  {
   "cell_type": "code",
   "execution_count": 10,
   "metadata": {
    "ExecuteTime": {
     "end_time": "2025-07-21T13:42:10.100291Z",
     "start_time": "2025-07-21T13:42:10.090394Z"
    }
   },
   "outputs": [
    {
     "name": "stdout",
     "output_type": "stream",
     "text": [
      "---\n",
      "config:\n",
      "  flowchart:\n",
      "    curve: linear\n",
      "---\n",
      "graph TD;\n",
      "\t__start__([<p>__start__</p>]):::first\n",
      "\tchatbot(chatbot)\n",
      "\t__end__([<p>__end__</p>]):::last\n",
      "\t__start__ --> chatbot;\n",
      "\tchatbot --> __end__;\n",
      "\tclassDef default fill:#f2f0ff,line-height:1.2\n",
      "\tclassDef first fill-opacity:0\n",
      "\tclassDef last fill:#bfb6fc\n",
      "\n",
      "✅ LangGraph 聊天应用创建成功\n",
      "\n",
      "🎯 LangGraph 记忆特点:\n",
      "- 自动管理对话历史\n",
      "- 支持多用户、多会话\n",
      "- 可以保存和恢复对话状态\n",
      "- 支持复杂的状态管理\n"
     ]
    }
   ],
   "source": [
    "def create_chat_app():\n",
    "    \"\"\"创建 LangGraph 聊天应用\"\"\"\n",
    "    \n",
    "    # 创建状态图\n",
    "    graph = StateGraph(State)\n",
    "    \n",
    "    # 添加节点\n",
    "    graph.add_node(\"chatbot\", chatbot_node)\n",
    "    \n",
    "    # 添加边：START -> chatbot -> END\n",
    "    graph.add_edge(START, \"chatbot\")\n",
    "    graph.add_edge(\"chatbot\", END)\n",
    "    \n",
    "    # 添加记忆检查点\n",
    "    memory = MemorySaver()\n",
    "    \n",
    "    # 编译图\n",
    "    app = graph.compile(checkpointer=memory)\n",
    "    print(app.get_graph().draw_mermaid())\n",
    "    return app\n",
    "\n",
    "# 创建聊天应用\n",
    "chat_app = create_chat_app()\n",
    "\n",
    "print(\"✅ LangGraph 聊天应用创建成功\")\n",
    "print(\"\\n🎯 LangGraph 记忆特点:\")\n",
    "print(\"- 自动管理对话历史\")\n",
    "print(\"- 支持多用户、多会话\")\n",
    "print(\"- 可以保存和恢复对话状态\")\n",
    "print(\"- 支持复杂的状态管理\")"
   ]
  },
  {
   "cell_type": "markdown",
   "metadata": {},
   "source": [
    "## 7. 基础聊天演示"
   ]
  },
  {
   "cell_type": "code",
   "execution_count": 6,
   "metadata": {
    "ExecuteTime": {
     "end_time": "2025-07-21T13:13:19.111029Z",
     "start_time": "2025-07-21T13:12:53.116998Z"
    }
   },
   "outputs": [
    {
     "name": "stdout",
     "output_type": "stream",
     "text": [
      "🤖 开始对话演示...\n",
      "\n",
      "👤 用户: 你好，我叫Alice，是一名数据科学家\n",
      "🤖 AI: 你好Alice！很高兴认识你！作为一名数据科学家，听起来你一定很棒！有什么我可以帮助你的吗？比如，你现在在做什么项目，或者有什么想聊的？ 😊\n",
      "\n",
      "\n",
      "👤 用户: 我在研究机器学习算法\n",
      "🤖 AI: 你好Alice！很高兴听到你正在研究机器学习算法！这真是个令人兴奋的领域。 你目前主要关注哪些机器学习算法呢？ 是深度学习、决策树、支持向量机，还是其他类型的算法？ \n",
      "\n",
      "或者，你对机器学习的哪个方面特别感兴趣？ 例如，模型选择、特征工程、模型评估，还是算法的理论基础？  😊  告诉我你现在在研究什么，我可以尽力提供帮助，或者一起探讨一些有趣的知识！\n",
      "\n",
      "\n",
      "👤 用户: 你还记得我的名字吗？\n",
      "🤖 AI: 你好Alice！当然记得！很高兴再次见到你！ 😊 你在研究机器学习算法，真是个不错的选择。 \n",
      "\n",
      "你现在主要在研究哪些算法呢？ 还是说有什么想聊的？\n",
      "\n",
      "\n",
      "👤 用户: 我的职业是什么？\n",
      "🤖 AI: 你好Alice！当然记得！很高兴再次见到你！😊 你在研究机器学习算法，真是个不错的选择。\n",
      "\n",
      "你现在主要在研究哪些算法呢？ 还是说有什么想聊的？\n",
      "\n",
      "你之前告诉我你是一名数据科学家，所以你的职业是数据科学家！ 很高兴再次和你交流！ 😊 \n",
      "\n"
     ]
    }
   ],
   "source": [
    "def chat(message: str, session_id: str = \"default\"):\n",
    "    \"\"\"发送消息并获取回复\"\"\"\n",
    "    \n",
    "    # 配置会话\n",
    "    config = {\"configurable\": {\"thread_id\": session_id}}\n",
    "    \n",
    "    # 调用聊天应用\n",
    "    result = chat_app.invoke(\n",
    "        {\"messages\": [HumanMessage(content=message)]},\n",
    "        config=config\n",
    "    )\n",
    "    \n",
    "    # 返回 AI 回复\n",
    "    return result[\"messages\"][-1].content\n",
    "\n",
    "# 测试对话\n",
    "print(\"🤖 开始对话演示...\\n\")\n",
    "\n",
    "# 第一轮对话\n",
    "user_msg1 = \"你好，我叫Alice，是一名数据科学家\"\n",
    "ai_response1 = chat(user_msg1, \"demo_session\")\n",
    "print(f\"👤 用户: {user_msg1}\")\n",
    "print(f\"🤖 AI: {ai_response1}\\n\")\n",
    "\n",
    "# 第二轮对话\n",
    "user_msg2 = \"我在研究机器学习算法\"\n",
    "ai_response2 = chat(user_msg2, \"demo_session\")\n",
    "print(f\"👤 用户: {user_msg2}\")\n",
    "print(f\"🤖 AI: {ai_response2}\\n\")\n",
    "\n",
    "# 第三轮对话 - 测试记忆\n",
    "user_msg3 = \"你还记得我的名字吗？\"\n",
    "ai_response3 = chat(user_msg3, \"demo_session\")\n",
    "print(f\"👤 用户: {user_msg3}\")\n",
    "print(f\"🤖 AI: {ai_response3}\\n\")\n",
    "\n",
    "# 第四轮对话 - 测试记忆\n",
    "user_msg4 = \"我的职业是什么？\"\n",
    "ai_response4 = chat(user_msg4, \"demo_session\")\n",
    "print(f\"👤 用户: {user_msg4}\")\n",
    "print(f\"🤖 AI: {ai_response4}\")"
   ]
  },
  {
   "cell_type": "markdown",
   "metadata": {},
   "source": [
    "## 8. 查看对话历史"
   ]
  },
  {
   "cell_type": "code",
   "execution_count": 7,
   "metadata": {
    "ExecuteTime": {
     "end_time": "2025-07-21T13:15:09.972596Z",
     "start_time": "2025-07-21T13:15:09.966518Z"
    }
   },
   "outputs": [
    {
     "name": "stdout",
     "output_type": "stream",
     "text": [
      "📜 完整对话历史:\n",
      "========================================\n",
      "1. 👤 用户: 你好，我叫Alice，是一名数据科学家\n",
      "\n",
      "2. 🤖 AI: 你好Alice！很高兴认识你！作为一名数据科学家，听起来你一定很棒！有什么我可以帮助你的吗？比如，你现在在做什么项目，或者有什么想聊的？ 😊\n",
      "\n",
      "\n",
      "3. 👤 用户: 我在研究机器学习算法\n",
      "\n",
      "4. 🤖 AI: 你好Alice！很高兴听到你正在研究机器学习算法！这真是个令人兴奋的领域。 你目前主要关注哪些机器学习算法呢？ 是深度学习、决策树、支持向量机，还是其他类型的算法？ \n",
      "\n",
      "或者，你对机器学习的哪个方面特别感兴趣？ 例如，模型选择、特征工程、模型评估，还是算法的理论基础？  😊  告诉我你现在在研究什么，我可以尽力提供帮助，或者一起探讨一些有趣的知识！\n",
      "\n",
      "\n",
      "5. 👤 用户: 你还记得我的名字吗？\n",
      "\n",
      "6. 🤖 AI: 你好Alice！当然记得！很高兴再次见到你！ 😊 你在研究机器学习算法，真是个不错的选择。 \n",
      "\n",
      "你现在主要在研究哪些算法呢？ 还是说有什么想聊的？\n",
      "\n",
      "\n",
      "7. 👤 用户: 我的职业是什么？\n",
      "\n",
      "8. 🤖 AI: 你好Alice！当然记得！很高兴再次见到你！😊 你在研究机器学习算法，真是个不错的选择。\n",
      "\n",
      "你现在主要在研究哪些算法呢？ 还是说有什么想聊的？\n",
      "\n",
      "你之前告诉我你是一名数据科学家，所以你的职业是数据科学家！ 很高兴再次和你交流！ 😊 \n",
      "\n",
      "\n",
      "📊 总消息数: 8\n"
     ]
    }
   ],
   "source": [
    "def get_conversation_history(session_id: str = \"default\"):\n",
    "    \"\"\"获取对话历史\"\"\"\n",
    "    config = {\"configurable\": {\"thread_id\": session_id}}\n",
    "    \n",
    "    # 获取当前状态\n",
    "    state = chat_app.get_state(config)\n",
    "    \n",
    "    return state.values.get(\"messages\", [])\n",
    "\n",
    "# 显示完整对话历史\n",
    "print(\"📜 完整对话历史:\")\n",
    "print(\"=\" * 40)\n",
    "\n",
    "history = get_conversation_history(\"demo_session\")\n",
    "\n",
    "for i, msg in enumerate(history, 1):\n",
    "    if isinstance(msg, HumanMessage):\n",
    "        print(f\"{i}. 👤 用户: {msg.content}\")\n",
    "    elif isinstance(msg, AIMessage):\n",
    "        print(f\"{i}. 🤖 AI: {msg.content}\")\n",
    "    print()\n",
    "\n",
    "print(f\"📊 总消息数: {len(history)}\")"
   ]
  },
  {
   "cell_type": "markdown",
   "metadata": {},
   "source": [
    "## 9. 多用户会话演示"
   ]
  },
  {
   "cell_type": "code",
   "execution_count": 8,
   "metadata": {
    "ExecuteTime": {
     "end_time": "2025-07-21T13:15:28.578684Z",
     "start_time": "2025-07-21T13:15:13.282042Z"
    }
   },
   "outputs": [
    {
     "name": "stdout",
     "output_type": "stream",
     "text": [
      "👥 多用户会话演示\n",
      "\n",
      "=== 用户A的会话 ===\n",
      "👤 Alice: 你好，我是Alice，我喜欢画画\n",
      "🤖 AI: 你好 Alice！很高兴认识你！画画真棒！你喜欢画什么呢？是风景、人物、抽象画还是其他什么？ \n",
      "\n",
      "\n",
      "=== 用户B的会话 ===\n",
      "👤 Bob: 嗨，我是Bob，我是程序员\n",
      "🤖 AI: 嗨 Bob！ 很高兴认识你。作为程序员，你一定很喜欢解决问题和创造东西吧？有什么我可以帮你的吗？比如，你想聊聊你最近在做的项目，或者有什么编程问题想讨论？ 😊\n",
      "\n",
      "\n",
      "=== 继续Alice的会话 ===\n",
      "👤 Alice: 你还记得我的爱好吗？\n",
      "🤖 AI: 当然记得！你喜欢画画，对吗？你喜欢画什么呢？是风景、人物、抽象画还是其他什么？ \n",
      "\n",
      "\n",
      "=== 继续Bob的会话 ===\n",
      "👤 Bob: 我的职业是什么？\n",
      "🤖 AI: 嗨 Bob！很高兴认识你。作为程序员，你一定很喜欢解决问题和创造东西吧？ \n",
      "\n",
      "根据之前的对话，你是一名程序员。 😊 \n",
      "\n",
      "你最近在做什么项目呢？或者有什么编程问题想讨论吗？\n",
      "\n"
     ]
    }
   ],
   "source": [
    "print(\"👥 多用户会话演示\\n\")\n",
    "\n",
    "# 用户A的对话\n",
    "print(\"=== 用户A的会话 ===\")\n",
    "response_a1 = chat(\"你好，我是Alice，我喜欢画画\", \"user_a\")\n",
    "print(f\"👤 Alice: 你好，我是Alice，我喜欢画画\")\n",
    "print(f\"🤖 AI: {response_a1}\\n\")\n",
    "\n",
    "# 用户B的对话\n",
    "print(\"=== 用户B的会话 ===\")\n",
    "response_b1 = chat(\"嗨，我是Bob，我是程序员\", \"user_b\")\n",
    "print(f\"👤 Bob: 嗨，我是Bob，我是程序员\")\n",
    "print(f\"🤖 AI: {response_b1}\\n\")\n",
    "\n",
    "# 继续用户A的对话\n",
    "print(\"=== 继续Alice的会话 ===\")\n",
    "response_a2 = chat(\"你还记得我的爱好吗？\", \"user_a\")\n",
    "print(f\"👤 Alice: 你还记得我的爱好吗？\")\n",
    "print(f\"🤖 AI: {response_a2}\\n\")\n",
    "\n",
    "# 继续用户B的对话\n",
    "print(\"=== 继续Bob的会话 ===\")\n",
    "response_b2 = chat(\"我的职业是什么？\", \"user_b\")\n",
    "print(f\"👤 Bob: 我的职业是什么？\")\n",
    "print(f\"🤖 AI: {response_b2}\")"
   ]
  },
  {
   "cell_type": "markdown",
   "metadata": {},
   "source": [
    "## 10. 交互式聊天"
   ]
  },
  {
   "cell_type": "code",
   "execution_count": null,
   "metadata": {},
   "outputs": [],
   "source": [
    "def interactive_chat():\n",
    "    \"\"\"交互式聊天函数\"\"\"\n",
    "    print(\"🎯 交互式聊天开始！\")\n",
    "    print(\"输入 'quit' 退出，输入 'history' 查看历史\")\n",
    "    print(\"=\" * 40)\n",
    "    \n",
    "    session_id = \"interactive_session\"\n",
    "    \n",
    "    while True:\n",
    "        try:\n",
    "            # 获取用户输入\n",
    "            user_input = input(\"\\n👤 你: \").strip()\n",
    "            \n",
    "            if user_input.lower() == 'quit':\n",
    "                print(\"👋 再见！\")\n",
    "                break\n",
    "            elif user_input.lower() == 'history':\n",
    "                history = get_conversation_history(session_id)\n",
    "                print(f\"\\n📜 对话历史 (共{len(history)}条消息):\")\n",
    "                for msg in history[-6:]:  # 显示最近6条\n",
    "                    role = \"👤\" if isinstance(msg, HumanMessage) else \"🤖\"\n",
    "                    print(f\"{role} {msg.content}\")\n",
    "                continue\n",
    "            elif not user_input:\n",
    "                continue\n",
    "            \n",
    "            # 获取AI回复\n",
    "            response = chat(user_input, session_id)\n",
    "            print(f\"🤖 AI: {response}\")\n",
    "            \n",
    "        except KeyboardInterrupt:\n",
    "            print(\"\\n\\n👋 再见！\")\n",
    "            break\n",
    "        except Exception as e:\n",
    "            print(f\"❌ 出错了: {e}\")\n",
    "\n",
    "# 运行交互式聊天\n",
    "# 注意：在Jupyter中运行可能有输入限制，建议在终端中运行\n",
    "print(\"💡 提示：如果要进行交互式聊天，请取消下面的注释\")\n",
    "# interactive_chat()"
   ]
  },
  {
   "cell_type": "markdown",
   "metadata": {},
   "source": [
    "## 11. 输出图的Mermaid"
   ]
  },
  {
   "cell_type": "code",
   "execution_count": null,
   "metadata": {},
   "outputs": [],
   "source": [
    "def print_graph_mermaid():\n",
    "    \"\"\"输出LangGraph的Mermaid图表示\"\"\"\n",
    "    try:\n",
    "        # 获取图的Mermaid表示\n",
    "        mermaid_code = chat_app.get_graph().draw_mermaid()\n",
    "        print(\"🎨 LangGraph Mermaid 图:\")\n",
    "        print(\"=\" * 40)\n",
    "        print(mermaid_code)\n",
    "        print(\"=\" * 40)\n",
    "        return mermaid_code\n",
    "    except Exception as e:\n",
    "        print(f\"❌ 生成Mermaid图失败: {e}\")\n",
    "        return None\n",
    "\n",
    "# 输出图的Mermaid表示\n",
    "mermaid_graph = print_graph_mermaid()"
   ]
  },
  {
   "cell_type": "markdown",
   "metadata": {},
   "source": [
    "## 12. 总结\n",
    "\n",
    "### 🎉 LangGraph 记忆对话的优势\n",
    "\n",
    "1. **简单易用**: 只需几行代码就能实现记忆对话\n",
    "2. **自动管理**: 无需手动管理对话历史\n",
    "3. **多用户支持**: 天然支持多用户、多会话隔离\n",
    "4. **状态持久化**: 自动保存和恢复对话状态\n",
    "5. **扩展性强**: 可以轻松添加更多功能\n",
    "\n",
    "### 🔧 核心组件\n",
    "\n",
    "- **State**: 定义对话状态结构\n",
    "- **Node**: 处理逻辑的节点函数\n",
    "- **Graph**: 工作流图结构\n",
    "- **Checkpointer**: 状态持久化机制\n",
    "\n",
    "### 🚀 下一步\n",
    "\n",
    "- 添加消息修剪和摘要功能\n",
    "- 集成更多工具和功能\n",
    "- 部署为API服务\n",
    "- 添加用户认证和权限管理"
   ]
  },
  {
   "cell_type": "code",
   "execution_count": null,
   "metadata": {},
   "outputs": [],
   "source": [
    "print(\"🎊 LangGraph 记忆对话最小实现演示完成！\")\n",
    "print(\"\\n📚 更多示例请查看:\")\n",
    "print(\"- examples/langgraph_memory_example.py\")\n",
    "print(\"- examples/async_langgraph_memory.py\")\n",
    "print(\"- examples/fastapi_langgraph_memory.py\")"
   ]
  },
  {
   "cell_type": "markdown",
   "metadata": {},
   "source": [
    "## 13. 单元格完整实现 - 最简记忆对话"
   ]
  },
  {
   "cell_type": "code",
   "execution_count": 5,
   "metadata": {
    "ExecuteTime": {
     "end_time": "2025-07-21T15:37:50.998216Z",
     "start_time": "2025-07-21T15:37:43.527581Z"
    }
   },
   "outputs": [
    {
     "name": "stdout",
     "output_type": "stream",
     "text": [
      "🤖 LangGraph 最简记忆对话测试:\n",
      "========================================\n",
      "👤 用户: 你好，我叫Alice，是程序员\n",
      "🤖 AI: 你好 Alice，很高兴认识你！我是你的AI助手。作为程序员，有什么我可以帮助你的吗？比如，你想聊聊编程，或者需要一些技术方面的建议？\n",
      "\n",
      "\n",
      "👤 用户: 你还记得我的名字和职业吗？\n",
      "🤖 AI: 是的，我记得你叫Alice，是一名程序员。很高兴再次见到你！ 😊\n",
      "\n",
      "\n",
      "✅ 完成！仅用30行代码实现记忆对话\n"
     ]
    }
   ],
   "source": [
    "# LangGraph 最简记忆对话 - 完整实现（单个单元格）\n",
    "from typing import Annotated, List\n",
    "from typing_extensions import TypedDict\n",
    "from langgraph.graph import StateGraph, START, END\n",
    "from langgraph.graph.message import add_messages\n",
    "from langgraph.checkpoint.memory import MemorySaver\n",
    "from langchain_core.messages import BaseMessage, HumanMessage, AIMessage, SystemMessage\n",
    "from langchain_ollama import OllamaLLM\n",
    "\n",
    "# 1. 配置模型\n",
    "llm = OllamaLLM(base_url=\"http://localhost:11434\", model=\"gemma3:4b\", temperature=0.7)\n",
    "\n",
    "# 2. 定义状态\n",
    "class State(TypedDict):\n",
    "    messages: Annotated[List[BaseMessage], add_messages]\n",
    "\n",
    "# 3. 创建聊天节点\n",
    "def chatbot_node(state: State):\n",
    "    system_msg = SystemMessage(content=\"你是一个友好的AI助手，能记住对话历史。\")\n",
    "    messages = [system_msg] + state[\"messages\"]\n",
    "    response = llm.invoke(messages)\n",
    "    return {\"messages\": [AIMessage(content=response)]}\n",
    "\n",
    "# 4. 构建图和应用\n",
    "graph = StateGraph(State)\n",
    "graph.add_node(\"chatbot\", chatbot_node)\n",
    "graph.add_edge(START, \"chatbot\")\n",
    "graph.add_edge(\"chatbot\", END)\n",
    "app = graph.compile(checkpointer=MemorySaver())\n",
    "\n",
    "# 5. 聊天函数\n",
    "def chat(message: str, session_id: str = \"default\"):\n",
    "    config = {\"configurable\": {\"thread_id\": session_id}}\n",
    "    result = app.invoke({\"messages\": [HumanMessage(content=message)]}, config=config)\n",
    "    return result[\"messages\"][-1].content\n",
    "\n",
    "\n",
    "\n",
    "\n",
    "# 6. 测试对话\n",
    "print(\"🤖 LangGraph 最简记忆对话测试:\")\n",
    "print(\"=\" * 40)\n",
    "\n",
    "# 测试记忆功能\n",
    "response1 = chat(\"你好，我叫Alice，是程序员\", \"test\")\n",
    "print(f\"👤 用户: 你好，我叫Alice，是程序员\")\n",
    "print(f\"🤖 AI: {response1}\\n\")\n",
    "\n",
    "response2 = chat(\"你还记得我的名字和职业吗？\", \"test\")\n",
    "print(f\"👤 用户: 你还记得我的名字和职业吗？\")\n",
    "print(f\"🤖 AI: {response2}\")\n",
    "\n",
    "print(\"\\n✅ 完成！仅用30行代码实现记忆对话\")"
   ]
  },
  {
   "cell_type": "markdown",
   "metadata": {},
   "source": [
    "## 15. Redis存储实现\n",
    "\n",
    "### 方法1: 使用官方Redis Checkpointer (推荐)"
   ]
  },
  {
   "cell_type": "markdown",
   "metadata": {},
   "source": [
    "## 18. Redis存储最简实现（单元格版本）"
   ]
  },
  {
   "cell_type": "code",
   "execution_count": 16,
   "metadata": {
    "ExecuteTime": {
     "end_time": "2025-07-21T16:17:06.088681Z",
     "start_time": "2025-07-21T16:17:03.721739Z"
    }
   },
   "outputs": [
    {
     "name": "stdout",
     "output_type": "stream",
     "text": [
      "\n",
      "🤖 Memory Chat Test:\n",
      "==============================\n",
      "✅ Redis connection successful\n"
     ]
    },
    {
     "ename": "RedisSearchError",
     "evalue": "Unexpected error while searching: Required Redis db module search >= 20600 OR searchlight >= 20600 not installed. See Redis Stack docs at https://redis.io/docs/latest/operate/oss_and_stack/install/install-stack/.",
     "output_type": "error",
     "traceback": [
      "\u001B[31m---------------------------------------------------------------------------\u001B[39m",
      "\u001B[31mRedisModuleVersionError\u001B[39m                   Traceback (most recent call last)",
      "\u001B[36mFile \u001B[39m\u001B[32mD:\\javaDevelopment\\program_project\\Pycharm_project\\darwinAgent\\.venv\\Lib\\site-packages\\redisvl\\index\\index.py:926\u001B[39m, in \u001B[36mSearchIndex.search\u001B[39m\u001B[34m(self, *args, **kwargs)\u001B[39m\n\u001B[32m    925\u001B[39m \u001B[38;5;28;01mtry\u001B[39;00m:\n\u001B[32m--> \u001B[39m\u001B[32m926\u001B[39m     \u001B[38;5;28;01mif\u001B[39;00m \u001B[38;5;28misinstance\u001B[39m(\u001B[38;5;28;43mself\u001B[39;49m\u001B[43m.\u001B[49m\u001B[43m_redis_client\u001B[49m, RedisCluster):\n\u001B[32m    927\u001B[39m         \u001B[38;5;66;03m# Use special cluster search for RedisCluster\u001B[39;00m\n\u001B[32m    928\u001B[39m         \u001B[38;5;28;01mreturn\u001B[39;00m cluster_search(\n\u001B[32m    929\u001B[39m             \u001B[38;5;28mself\u001B[39m._redis_client.ft(\u001B[38;5;28mself\u001B[39m.schema.index.name),\n\u001B[32m    930\u001B[39m             *args,\n\u001B[32m    931\u001B[39m             **kwargs,  \u001B[38;5;66;03m# type: ignore\u001B[39;00m\n\u001B[32m    932\u001B[39m         )\n",
      "\u001B[36mFile \u001B[39m\u001B[32mD:\\javaDevelopment\\program_project\\Pycharm_project\\darwinAgent\\.venv\\Lib\\site-packages\\redisvl\\index\\index.py:488\u001B[39m, in \u001B[36mSearchIndex._redis_client\u001B[39m\u001B[34m(self)\u001B[39m\n\u001B[32m    487\u001B[39m \u001B[38;5;28;01mif\u001B[39;00m \u001B[38;5;129;01mnot\u001B[39;00m \u001B[38;5;28mself\u001B[39m._validated_client:\n\u001B[32m--> \u001B[39m\u001B[32m488\u001B[39m     \u001B[43mRedisConnectionFactory\u001B[49m\u001B[43m.\u001B[49m\u001B[43mvalidate_sync_redis\u001B[49m\u001B[43m(\u001B[49m\n\u001B[32m    489\u001B[39m \u001B[43m        \u001B[49m\u001B[38;5;28;43mself\u001B[39;49m\u001B[43m.\u001B[49m\u001B[43m__redis_client\u001B[49m\u001B[43m,\u001B[49m\n\u001B[32m    490\u001B[39m \u001B[43m        \u001B[49m\u001B[38;5;28;43mself\u001B[39;49m\u001B[43m.\u001B[49m\u001B[43m_lib_name\u001B[49m\u001B[43m,\u001B[49m\n\u001B[32m    491\u001B[39m \u001B[43m    \u001B[49m\u001B[43m)\u001B[49m\n\u001B[32m    492\u001B[39m     \u001B[38;5;28mself\u001B[39m._validated_client = \u001B[38;5;28;01mTrue\u001B[39;00m\n",
      "\u001B[36mFile \u001B[39m\u001B[32mD:\\javaDevelopment\\program_project\\Pycharm_project\\darwinAgent\\.venv\\Lib\\site-packages\\redisvl\\redis\\connection.py:411\u001B[39m, in \u001B[36mRedisConnectionFactory.validate_sync_redis\u001B[39m\u001B[34m(redis_client, lib_name, required_modules)\u001B[39m\n\u001B[32m    410\u001B[39m \u001B[38;5;66;03m# Validate available modules\u001B[39;00m\n\u001B[32m--> \u001B[39m\u001B[32m411\u001B[39m \u001B[43mvalidate_modules\u001B[49m\u001B[43m(\u001B[49m\u001B[43minstalled_modules\u001B[49m\u001B[43m,\u001B[49m\u001B[43m \u001B[49m\u001B[43mrequired_modules\u001B[49m\u001B[43m)\u001B[49m\n",
      "\u001B[36mFile \u001B[39m\u001B[32mD:\\javaDevelopment\\program_project\\Pycharm_project\\darwinAgent\\.venv\\Lib\\site-packages\\redisvl\\redis\\connection.py:189\u001B[39m, in \u001B[36mvalidate_modules\u001B[39m\u001B[34m(installed_modules, required_modules)\u001B[39m\n\u001B[32m    184\u001B[39m error_message = (\n\u001B[32m    185\u001B[39m     \u001B[33mf\u001B[39m\u001B[33m\"\u001B[39m\u001B[33mRequired Redis db module \u001B[39m\u001B[38;5;132;01m{\u001B[39;00mrequired_modules_str\u001B[38;5;132;01m}\u001B[39;00m\u001B[33m not installed. \u001B[39m\u001B[33m\"\u001B[39m\n\u001B[32m    186\u001B[39m     \u001B[33m\"\u001B[39m\u001B[33mSee Redis Stack docs at https://redis.io/docs/latest/operate/oss_and_stack/install/install-stack/.\u001B[39m\u001B[33m\"\u001B[39m\n\u001B[32m    187\u001B[39m )\n\u001B[32m--> \u001B[39m\u001B[32m189\u001B[39m \u001B[38;5;28;01mraise\u001B[39;00m RedisModuleVersionError(error_message)\n",
      "\u001B[31mRedisModuleVersionError\u001B[39m: Required Redis db module search >= 20600 OR searchlight >= 20600 not installed. See Redis Stack docs at https://redis.io/docs/latest/operate/oss_and_stack/install/install-stack/.",
      "\nThe above exception was the direct cause of the following exception:\n",
      "\u001B[31mRedisSearchError\u001B[39m                          Traceback (most recent call last)",
      "\u001B[36mCell\u001B[39m\u001B[36m \u001B[39m\u001B[32mIn[16]\u001B[39m\u001B[32m, line 135\u001B[39m\n\u001B[32m    132\u001B[39m \u001B[38;5;28mprint\u001B[39m(\u001B[33m\"\u001B[39m\u001B[33m=\u001B[39m\u001B[33m\"\u001B[39m * \u001B[32m30\u001B[39m)\n\u001B[32m    134\u001B[39m \u001B[38;5;66;03m# First interaction\u001B[39;00m\n\u001B[32m--> \u001B[39m\u001B[32m135\u001B[39m response1 = \u001B[43mchat_with_memory\u001B[49m\u001B[43m(\u001B[49m\u001B[33;43m\"\u001B[39;49m\u001B[33;43mHello, my name is Alex and I\u001B[39;49m\u001B[33;43m'\u001B[39;49m\u001B[33;43mm a software engineer\u001B[39;49m\u001B[33;43m\"\u001B[39;49m\u001B[43m,\u001B[49m\u001B[43m \u001B[49m\u001B[33;43m\"\u001B[39;49m\u001B[33;43mtest_session\u001B[39;49m\u001B[33;43m\"\u001B[39;49m\u001B[43m)\u001B[49m\n\u001B[32m    136\u001B[39m \u001B[38;5;28mprint\u001B[39m(\u001B[33mf\u001B[39m\u001B[33m\"\u001B[39m\u001B[33m👤 User: Hello, my name is Alex and I\u001B[39m\u001B[33m'\u001B[39m\u001B[33mm a software engineer\u001B[39m\u001B[33m\"\u001B[39m)\n\u001B[32m    137\u001B[39m \u001B[38;5;28mprint\u001B[39m(\u001B[33mf\u001B[39m\u001B[33m\"\u001B[39m\u001B[33m🤖 AI: \u001B[39m\u001B[38;5;132;01m{\u001B[39;00mresponse1\u001B[38;5;132;01m}\u001B[39;00m\u001B[38;5;130;01m\\n\u001B[39;00m\u001B[33m\"\u001B[39m)\n",
      "\u001B[36mCell\u001B[39m\u001B[36m \u001B[39m\u001B[32mIn[16]\u001B[39m\u001B[32m, line 94\u001B[39m, in \u001B[36mchat_with_memory\u001B[39m\u001B[34m(message, session_id)\u001B[39m\n\u001B[32m     91\u001B[39m config = {\u001B[33m\"\u001B[39m\u001B[33mconfigurable\u001B[39m\u001B[33m\"\u001B[39m: {\u001B[33m\"\u001B[39m\u001B[33mthread_id\u001B[39m\u001B[33m\"\u001B[39m: session_id}}\n\u001B[32m     93\u001B[39m \u001B[38;5;66;03m# Invoke the graph\u001B[39;00m\n\u001B[32m---> \u001B[39m\u001B[32m94\u001B[39m result = \u001B[43mmemory_app\u001B[49m\u001B[43m.\u001B[49m\u001B[43minvoke\u001B[49m\u001B[43m(\u001B[49m\n\u001B[32m     95\u001B[39m \u001B[43m    \u001B[49m\u001B[43m{\u001B[49m\u001B[33;43m\"\u001B[39;49m\u001B[33;43mmessages\u001B[39;49m\u001B[33;43m\"\u001B[39;49m\u001B[43m:\u001B[49m\u001B[43m \u001B[49m\u001B[43m[\u001B[49m\u001B[43mHumanMessage\u001B[49m\u001B[43m(\u001B[49m\u001B[43mcontent\u001B[49m\u001B[43m=\u001B[49m\u001B[43mmessage\u001B[49m\u001B[43m)\u001B[49m\u001B[43m]\u001B[49m\u001B[43m,\u001B[49m\u001B[43m \u001B[49m\u001B[33;43m\"\u001B[39;49m\u001B[33;43mcontext\u001B[39;49m\u001B[33;43m\"\u001B[39;49m\u001B[43m:\u001B[49m\u001B[43m \u001B[49m\u001B[43m{\u001B[49m\u001B[43m}\u001B[49m\u001B[43m}\u001B[49m\u001B[43m,\u001B[49m\n\u001B[32m     96\u001B[39m \u001B[43m    \u001B[49m\u001B[43mconfig\u001B[49m\u001B[43m=\u001B[49m\u001B[43mconfig\u001B[49m\n\u001B[32m     97\u001B[39m \u001B[43m\u001B[49m\u001B[43m)\u001B[49m\n\u001B[32m     99\u001B[39m \u001B[38;5;66;03m# Return the AI's response\u001B[39;00m\n\u001B[32m    100\u001B[39m \u001B[38;5;28;01mreturn\u001B[39;00m result[\u001B[33m\"\u001B[39m\u001B[33mmessages\u001B[39m\u001B[33m\"\u001B[39m][-\u001B[32m1\u001B[39m].content\n",
      "\u001B[36mFile \u001B[39m\u001B[32mD:\\javaDevelopment\\program_project\\Pycharm_project\\darwinAgent\\.venv\\Lib\\site-packages\\langgraph\\pregel\\__init__.py:2844\u001B[39m, in \u001B[36mPregel.invoke\u001B[39m\u001B[34m(self, input, config, stream_mode, print_mode, output_keys, interrupt_before, interrupt_after, **kwargs)\u001B[39m\n\u001B[32m   2841\u001B[39m chunks: \u001B[38;5;28mlist\u001B[39m[\u001B[38;5;28mdict\u001B[39m[\u001B[38;5;28mstr\u001B[39m, Any] | Any] = []\n\u001B[32m   2842\u001B[39m interrupts: \u001B[38;5;28mlist\u001B[39m[Interrupt] = []\n\u001B[32m-> \u001B[39m\u001B[32m2844\u001B[39m \u001B[43m\u001B[49m\u001B[38;5;28;43;01mfor\u001B[39;49;00m\u001B[43m \u001B[49m\u001B[43mchunk\u001B[49m\u001B[43m \u001B[49m\u001B[38;5;129;43;01min\u001B[39;49;00m\u001B[43m \u001B[49m\u001B[38;5;28;43mself\u001B[39;49m\u001B[43m.\u001B[49m\u001B[43mstream\u001B[49m\u001B[43m(\u001B[49m\n\u001B[32m   2845\u001B[39m \u001B[43m    \u001B[49m\u001B[38;5;28;43minput\u001B[39;49m\u001B[43m,\u001B[49m\n\u001B[32m   2846\u001B[39m \u001B[43m    \u001B[49m\u001B[43mconfig\u001B[49m\u001B[43m,\u001B[49m\n\u001B[32m   2847\u001B[39m \u001B[43m    \u001B[49m\u001B[43mstream_mode\u001B[49m\u001B[43m=\u001B[49m\u001B[43m[\u001B[49m\u001B[33;43m\"\u001B[39;49m\u001B[33;43mupdates\u001B[39;49m\u001B[33;43m\"\u001B[39;49m\u001B[43m,\u001B[49m\u001B[43m \u001B[49m\u001B[33;43m\"\u001B[39;49m\u001B[33;43mvalues\u001B[39;49m\u001B[33;43m\"\u001B[39;49m\u001B[43m]\u001B[49m\n\u001B[32m   2848\u001B[39m \u001B[43m    \u001B[49m\u001B[38;5;28;43;01mif\u001B[39;49;00m\u001B[43m \u001B[49m\u001B[43mstream_mode\u001B[49m\u001B[43m \u001B[49m\u001B[43m==\u001B[49m\u001B[43m \u001B[49m\u001B[33;43m\"\u001B[39;49m\u001B[33;43mvalues\u001B[39;49m\u001B[33;43m\"\u001B[39;49m\n\u001B[32m   2849\u001B[39m \u001B[43m    \u001B[49m\u001B[38;5;28;43;01melse\u001B[39;49;00m\u001B[43m \u001B[49m\u001B[43mstream_mode\u001B[49m\u001B[43m,\u001B[49m\n\u001B[32m   2850\u001B[39m \u001B[43m    \u001B[49m\u001B[43mprint_mode\u001B[49m\u001B[43m=\u001B[49m\u001B[43mprint_mode\u001B[49m\u001B[43m,\u001B[49m\n\u001B[32m   2851\u001B[39m \u001B[43m    \u001B[49m\u001B[43moutput_keys\u001B[49m\u001B[43m=\u001B[49m\u001B[43moutput_keys\u001B[49m\u001B[43m,\u001B[49m\n\u001B[32m   2852\u001B[39m \u001B[43m    \u001B[49m\u001B[43minterrupt_before\u001B[49m\u001B[43m=\u001B[49m\u001B[43minterrupt_before\u001B[49m\u001B[43m,\u001B[49m\n\u001B[32m   2853\u001B[39m \u001B[43m    \u001B[49m\u001B[43minterrupt_after\u001B[49m\u001B[43m=\u001B[49m\u001B[43minterrupt_after\u001B[49m\u001B[43m,\u001B[49m\n\u001B[32m   2854\u001B[39m \u001B[43m    \u001B[49m\u001B[43m*\u001B[49m\u001B[43m*\u001B[49m\u001B[43mkwargs\u001B[49m\u001B[43m,\u001B[49m\n\u001B[32m   2855\u001B[39m \u001B[43m\u001B[49m\u001B[43m)\u001B[49m\u001B[43m:\u001B[49m\n\u001B[32m   2856\u001B[39m \u001B[43m    \u001B[49m\u001B[38;5;28;43;01mif\u001B[39;49;00m\u001B[43m \u001B[49m\u001B[43mstream_mode\u001B[49m\u001B[43m \u001B[49m\u001B[43m==\u001B[49m\u001B[43m \u001B[49m\u001B[33;43m\"\u001B[39;49m\u001B[33;43mvalues\u001B[39;49m\u001B[33;43m\"\u001B[39;49m\u001B[43m:\u001B[49m\n\u001B[32m   2857\u001B[39m \u001B[43m        \u001B[49m\u001B[38;5;28;43;01mif\u001B[39;49;00m\u001B[43m \u001B[49m\u001B[38;5;28;43mlen\u001B[39;49m\u001B[43m(\u001B[49m\u001B[43mchunk\u001B[49m\u001B[43m)\u001B[49m\u001B[43m \u001B[49m\u001B[43m==\u001B[49m\u001B[43m \u001B[49m\u001B[32;43m2\u001B[39;49m\u001B[43m:\u001B[49m\n",
      "\u001B[36mFile \u001B[39m\u001B[32mD:\\javaDevelopment\\program_project\\Pycharm_project\\darwinAgent\\.venv\\Lib\\site-packages\\langgraph\\pregel\\__init__.py:2467\u001B[39m, in \u001B[36mPregel.stream\u001B[39m\u001B[34m(self, input, config, stream_mode, print_mode, output_keys, interrupt_before, interrupt_after, checkpoint_during, debug, subgraphs)\u001B[39m\n\u001B[32m   2465\u001B[39m \u001B[38;5;28;01mif\u001B[39;00m checkpoint_during \u001B[38;5;129;01mis\u001B[39;00m \u001B[38;5;129;01mnot\u001B[39;00m \u001B[38;5;28;01mNone\u001B[39;00m:\n\u001B[32m   2466\u001B[39m     config[CONF][CONFIG_KEY_CHECKPOINT_DURING] = checkpoint_during\n\u001B[32m-> \u001B[39m\u001B[32m2467\u001B[39m \u001B[43m\u001B[49m\u001B[38;5;28;43;01mwith\u001B[39;49;00m\u001B[43m \u001B[49m\u001B[43mSyncPregelLoop\u001B[49m\u001B[43m(\u001B[49m\n\u001B[32m   2468\u001B[39m \u001B[43m    \u001B[49m\u001B[38;5;28;43minput\u001B[39;49m\u001B[43m,\u001B[49m\n\u001B[32m   2469\u001B[39m \u001B[43m    \u001B[49m\u001B[43mstream\u001B[49m\u001B[43m=\u001B[49m\u001B[43mStreamProtocol\u001B[49m\u001B[43m(\u001B[49m\u001B[43mstream\u001B[49m\u001B[43m.\u001B[49m\u001B[43mput\u001B[49m\u001B[43m,\u001B[49m\u001B[43m \u001B[49m\u001B[43mstream_modes\u001B[49m\u001B[43m)\u001B[49m\u001B[43m,\u001B[49m\n\u001B[32m   2470\u001B[39m \u001B[43m    \u001B[49m\u001B[43mconfig\u001B[49m\u001B[43m=\u001B[49m\u001B[43mconfig\u001B[49m\u001B[43m,\u001B[49m\n\u001B[32m   2471\u001B[39m \u001B[43m    \u001B[49m\u001B[43mstore\u001B[49m\u001B[43m=\u001B[49m\u001B[43mstore\u001B[49m\u001B[43m,\u001B[49m\n\u001B[32m   2472\u001B[39m \u001B[43m    \u001B[49m\u001B[43mcache\u001B[49m\u001B[43m=\u001B[49m\u001B[43mcache\u001B[49m\u001B[43m,\u001B[49m\n\u001B[32m   2473\u001B[39m \u001B[43m    \u001B[49m\u001B[43mcheckpointer\u001B[49m\u001B[43m=\u001B[49m\u001B[43mcheckpointer\u001B[49m\u001B[43m,\u001B[49m\n\u001B[32m   2474\u001B[39m \u001B[43m    \u001B[49m\u001B[43mnodes\u001B[49m\u001B[43m=\u001B[49m\u001B[38;5;28;43mself\u001B[39;49m\u001B[43m.\u001B[49m\u001B[43mnodes\u001B[49m\u001B[43m,\u001B[49m\n\u001B[32m   2475\u001B[39m \u001B[43m    \u001B[49m\u001B[43mspecs\u001B[49m\u001B[43m=\u001B[49m\u001B[38;5;28;43mself\u001B[39;49m\u001B[43m.\u001B[49m\u001B[43mchannels\u001B[49m\u001B[43m,\u001B[49m\n\u001B[32m   2476\u001B[39m \u001B[43m    \u001B[49m\u001B[43moutput_keys\u001B[49m\u001B[43m=\u001B[49m\u001B[43moutput_keys\u001B[49m\u001B[43m,\u001B[49m\n\u001B[32m   2477\u001B[39m \u001B[43m    \u001B[49m\u001B[43minput_keys\u001B[49m\u001B[43m=\u001B[49m\u001B[38;5;28;43mself\u001B[39;49m\u001B[43m.\u001B[49m\u001B[43minput_channels\u001B[49m\u001B[43m,\u001B[49m\n\u001B[32m   2478\u001B[39m \u001B[43m    \u001B[49m\u001B[43mstream_keys\u001B[49m\u001B[43m=\u001B[49m\u001B[38;5;28;43mself\u001B[39;49m\u001B[43m.\u001B[49m\u001B[43mstream_channels_asis\u001B[49m\u001B[43m,\u001B[49m\n\u001B[32m   2479\u001B[39m \u001B[43m    \u001B[49m\u001B[43minterrupt_before\u001B[49m\u001B[43m=\u001B[49m\u001B[43minterrupt_before_\u001B[49m\u001B[43m,\u001B[49m\n\u001B[32m   2480\u001B[39m \u001B[43m    \u001B[49m\u001B[43minterrupt_after\u001B[49m\u001B[43m=\u001B[49m\u001B[43minterrupt_after_\u001B[49m\u001B[43m,\u001B[49m\n\u001B[32m   2481\u001B[39m \u001B[43m    \u001B[49m\u001B[43mmanager\u001B[49m\u001B[43m=\u001B[49m\u001B[43mrun_manager\u001B[49m\u001B[43m,\u001B[49m\n\u001B[32m   2482\u001B[39m \u001B[43m    \u001B[49m\u001B[43mcheckpoint_during\u001B[49m\u001B[43m=\u001B[49m\u001B[43mcheckpoint_during\u001B[49m\n\u001B[32m   2483\u001B[39m \u001B[43m    \u001B[49m\u001B[38;5;28;43;01mif\u001B[39;49;00m\u001B[43m \u001B[49m\u001B[43mcheckpoint_during\u001B[49m\u001B[43m \u001B[49m\u001B[38;5;129;43;01mis\u001B[39;49;00m\u001B[43m \u001B[49m\u001B[38;5;129;43;01mnot\u001B[39;49;00m\u001B[43m \u001B[49m\u001B[38;5;28;43;01mNone\u001B[39;49;00m\n\u001B[32m   2484\u001B[39m \u001B[43m    \u001B[49m\u001B[38;5;28;43;01melse\u001B[39;49;00m\u001B[43m \u001B[49m\u001B[43mconfig\u001B[49m\u001B[43m[\u001B[49m\u001B[43mCONF\u001B[49m\u001B[43m]\u001B[49m\u001B[43m.\u001B[49m\u001B[43mget\u001B[49m\u001B[43m(\u001B[49m\u001B[43mCONFIG_KEY_CHECKPOINT_DURING\u001B[49m\u001B[43m,\u001B[49m\u001B[43m \u001B[49m\u001B[38;5;28;43;01mTrue\u001B[39;49;00m\u001B[43m)\u001B[49m\u001B[43m,\u001B[49m\n\u001B[32m   2485\u001B[39m \u001B[43m    \u001B[49m\u001B[43mtrigger_to_nodes\u001B[49m\u001B[43m=\u001B[49m\u001B[38;5;28;43mself\u001B[39;49m\u001B[43m.\u001B[49m\u001B[43mtrigger_to_nodes\u001B[49m\u001B[43m,\u001B[49m\n\u001B[32m   2486\u001B[39m \u001B[43m    \u001B[49m\u001B[43mmigrate_checkpoint\u001B[49m\u001B[43m=\u001B[49m\u001B[38;5;28;43mself\u001B[39;49m\u001B[43m.\u001B[49m\u001B[43m_migrate_checkpoint\u001B[49m\u001B[43m,\u001B[49m\n\u001B[32m   2487\u001B[39m \u001B[43m    \u001B[49m\u001B[43mretry_policy\u001B[49m\u001B[43m=\u001B[49m\u001B[38;5;28;43mself\u001B[39;49m\u001B[43m.\u001B[49m\u001B[43mretry_policy\u001B[49m\u001B[43m,\u001B[49m\n\u001B[32m   2488\u001B[39m \u001B[43m    \u001B[49m\u001B[43mcache_policy\u001B[49m\u001B[43m=\u001B[49m\u001B[38;5;28;43mself\u001B[39;49m\u001B[43m.\u001B[49m\u001B[43mcache_policy\u001B[49m\u001B[43m,\u001B[49m\n\u001B[32m   2489\u001B[39m \u001B[43m\u001B[49m\u001B[43m)\u001B[49m\u001B[43m \u001B[49m\u001B[38;5;28;43;01mas\u001B[39;49;00m\u001B[43m \u001B[49m\u001B[43mloop\u001B[49m\u001B[43m:\u001B[49m\n\u001B[32m   2490\u001B[39m \u001B[43m    \u001B[49m\u001B[38;5;66;43;03m# create runner\u001B[39;49;00m\n\u001B[32m   2491\u001B[39m \u001B[43m    \u001B[49m\u001B[43mrunner\u001B[49m\u001B[43m \u001B[49m\u001B[43m=\u001B[49m\u001B[43m \u001B[49m\u001B[43mPregelRunner\u001B[49m\u001B[43m(\u001B[49m\n\u001B[32m   2492\u001B[39m \u001B[43m        \u001B[49m\u001B[43msubmit\u001B[49m\u001B[43m=\u001B[49m\u001B[43mconfig\u001B[49m\u001B[43m[\u001B[49m\u001B[43mCONF\u001B[49m\u001B[43m]\u001B[49m\u001B[43m.\u001B[49m\u001B[43mget\u001B[49m\u001B[43m(\u001B[49m\n\u001B[32m   2493\u001B[39m \u001B[43m            \u001B[49m\u001B[43mCONFIG_KEY_RUNNER_SUBMIT\u001B[49m\u001B[43m,\u001B[49m\u001B[43m \u001B[49m\u001B[43mweakref\u001B[49m\u001B[43m.\u001B[49m\u001B[43mWeakMethod\u001B[49m\u001B[43m(\u001B[49m\u001B[43mloop\u001B[49m\u001B[43m.\u001B[49m\u001B[43msubmit\u001B[49m\u001B[43m)\u001B[49m\n\u001B[32m   (...)\u001B[39m\u001B[32m   2496\u001B[39m \u001B[43m        \u001B[49m\u001B[43mnode_finished\u001B[49m\u001B[43m=\u001B[49m\u001B[43mconfig\u001B[49m\u001B[43m[\u001B[49m\u001B[43mCONF\u001B[49m\u001B[43m]\u001B[49m\u001B[43m.\u001B[49m\u001B[43mget\u001B[49m\u001B[43m(\u001B[49m\u001B[43mCONFIG_KEY_NODE_FINISHED\u001B[49m\u001B[43m)\u001B[49m\u001B[43m,\u001B[49m\n\u001B[32m   2497\u001B[39m \u001B[43m    \u001B[49m\u001B[43m)\u001B[49m\n\u001B[32m   2498\u001B[39m \u001B[43m    \u001B[49m\u001B[38;5;66;43;03m# enable subgraph streaming\u001B[39;49;00m\n",
      "\u001B[36mFile \u001B[39m\u001B[32mD:\\javaDevelopment\\program_project\\Pycharm_project\\darwinAgent\\.venv\\Lib\\site-packages\\langgraph\\pregel\\loop.py:1003\u001B[39m, in \u001B[36mSyncPregelLoop.__enter__\u001B[39m\u001B[34m(self)\u001B[39m\n\u001B[32m   1001\u001B[39m \u001B[38;5;28;01mdef\u001B[39;00m\u001B[38;5;250m \u001B[39m\u001B[34m__enter__\u001B[39m(\u001B[38;5;28mself\u001B[39m) -> Self:\n\u001B[32m   1002\u001B[39m     \u001B[38;5;28;01mif\u001B[39;00m \u001B[38;5;28mself\u001B[39m.checkpointer:\n\u001B[32m-> \u001B[39m\u001B[32m1003\u001B[39m         saved = \u001B[38;5;28;43mself\u001B[39;49m\u001B[43m.\u001B[49m\u001B[43mcheckpointer\u001B[49m\u001B[43m.\u001B[49m\u001B[43mget_tuple\u001B[49m\u001B[43m(\u001B[49m\u001B[38;5;28;43mself\u001B[39;49m\u001B[43m.\u001B[49m\u001B[43mcheckpoint_config\u001B[49m\u001B[43m)\u001B[49m\n\u001B[32m   1004\u001B[39m     \u001B[38;5;28;01melse\u001B[39;00m:\n\u001B[32m   1005\u001B[39m         saved = \u001B[38;5;28;01mNone\u001B[39;00m\n",
      "\u001B[36mFile \u001B[39m\u001B[32mD:\\javaDevelopment\\program_project\\Pycharm_project\\darwinAgent\\.venv\\Lib\\site-packages\\langgraph\\checkpoint\\redis\\__init__.py:361\u001B[39m, in \u001B[36mRedisSaver.get_tuple\u001B[39m\u001B[34m(self, config)\u001B[39m\n\u001B[32m    358\u001B[39m checkpoints_query.sort_by(\u001B[33m\"\u001B[39m\u001B[33mcheckpoint_id\u001B[39m\u001B[33m\"\u001B[39m, asc=ascending)\n\u001B[32m    360\u001B[39m \u001B[38;5;66;03m# Execute the query\u001B[39;00m\n\u001B[32m--> \u001B[39m\u001B[32m361\u001B[39m results = \u001B[38;5;28;43mself\u001B[39;49m\u001B[43m.\u001B[49m\u001B[43mcheckpoints_index\u001B[49m\u001B[43m.\u001B[49m\u001B[43msearch\u001B[49m\u001B[43m(\u001B[49m\u001B[43mcheckpoints_query\u001B[49m\u001B[43m)\u001B[49m\n\u001B[32m    362\u001B[39m \u001B[38;5;28;01mif\u001B[39;00m \u001B[38;5;129;01mnot\u001B[39;00m results.docs:\n\u001B[32m    363\u001B[39m     \u001B[38;5;28;01mreturn\u001B[39;00m \u001B[38;5;28;01mNone\u001B[39;00m\n",
      "\u001B[36mFile \u001B[39m\u001B[32mD:\\javaDevelopment\\program_project\\Pycharm_project\\darwinAgent\\.venv\\Lib\\site-packages\\redisvl\\index\\index.py:944\u001B[39m, in \u001B[36mSearchIndex.search\u001B[39m\u001B[34m(self, *args, **kwargs)\u001B[39m\n\u001B[32m    942\u001B[39m     \u001B[38;5;28;01mraise\u001B[39;00m RedisSearchError(\u001B[33mf\u001B[39m\u001B[33m\"\u001B[39m\u001B[33mError while searching: \u001B[39m\u001B[38;5;132;01m{\u001B[39;00m\u001B[38;5;28mstr\u001B[39m(e)\u001B[38;5;132;01m}\u001B[39;00m\u001B[33m\"\u001B[39m) \u001B[38;5;28;01mfrom\u001B[39;00m\u001B[38;5;250m \u001B[39m\u001B[34;01me\u001B[39;00m\n\u001B[32m    943\u001B[39m \u001B[38;5;28;01mexcept\u001B[39;00m \u001B[38;5;167;01mException\u001B[39;00m \u001B[38;5;28;01mas\u001B[39;00m e:\n\u001B[32m--> \u001B[39m\u001B[32m944\u001B[39m     \u001B[38;5;28;01mraise\u001B[39;00m RedisSearchError(\u001B[33mf\u001B[39m\u001B[33m\"\u001B[39m\u001B[33mUnexpected error while searching: \u001B[39m\u001B[38;5;132;01m{\u001B[39;00m\u001B[38;5;28mstr\u001B[39m(e)\u001B[38;5;132;01m}\u001B[39;00m\u001B[33m\"\u001B[39m) \u001B[38;5;28;01mfrom\u001B[39;00m\u001B[38;5;250m \u001B[39m\u001B[34;01me\u001B[39;00m\n",
      "\u001B[31mRedisSearchError\u001B[39m: Unexpected error while searching: Required Redis db module search >= 20600 OR searchlight >= 20600 not installed. See Redis Stack docs at https://redis.io/docs/latest/operate/oss_and_stack/install/install-stack/."
     ]
    }
   ],
   "source": [
    "# LangGraph + Redis 最简记忆对话（单个单元格完整实现）\n",
    "from typing import Annotated, List\n",
    "from typing_extensions import TypedDict\n",
    "import redis\n",
    "from langgraph.graph import StateGraph, START, END\n",
    "from langgraph.graph.message import add_messages\n",
    "from langchain_core.messages import BaseMessage, HumanMessage, AIMessage, SystemMessage\n",
    "from langchain_ollama import OllamaLLM\n",
    "from langgraph.checkpoint.redis import RedisSaver\n",
    "\n",
    "\n",
    "# 1. Redis配置和连接\n",
    "try:\n",
    "    redis_client = redis.from_url(\"redis://localhost:6379/0\")\n",
    "    redis_client.ping()\n",
    "    print(\"✅ Redis连接成功\")\n",
    "\n",
    "    # 2. 状态定义\n",
    "    class State(TypedDict):\n",
    "        messages: Annotated[List[BaseMessage], add_messages]\n",
    "\n",
    "    # 3. 聊天节点\n",
    "    def chat_node(state: State):\n",
    "        llm = OllamaLLM(base_url=\"http://localhost:11434\", model=\"gemma3:4b\", temperature=0.7)\n",
    "        system_msg = SystemMessage(content=\"你是AI助手，数据存储在Redis中。\")\n",
    "        messages = [system_msg] + state[\"messages\"]\n",
    "        response = llm.invoke(messages)\n",
    "        return {\"messages\": [AIMessage(content=response)]}\n",
    "\n",
    "    # 4. 构建Redis应用\n",
    "    graph = StateGraph(State)\n",
    "    graph.add_node(\"chat\", chat_node)\n",
    "    graph.add_edge(START, \"chat\")\n",
    "    graph.add_edge(\"chat\", END)\n",
    "\n",
    "    # 修复RedisSaver初始化错误\n",
    "    try:\n",
    "        # 方法1: 使用连接字符串\n",
    "        redis_app = graph.compile(checkpointer=RedisSaver.from_conn_string(\"redis://localhost:6379/0\"))\n",
    "        print(\"✅ 使用连接字符串初始化RedisSaver\")\n",
    "    except AttributeError:\n",
    "        try:\n",
    "            # 方法2: 传递redis参数\n",
    "            redis_app = graph.compile(checkpointer=RedisSaver(redis=redis_client))\n",
    "            print(\"✅ 使用redis参数初始化RedisSaver\")\n",
    "        except Exception:\n",
    "            try:\n",
    "                # 方法3: 使用URL字符串\n",
    "                redis_app = graph.compile(checkpointer=RedisSaver(\"redis://localhost:6379/0\"))\n",
    "                print(\"✅ 使用URL字符串初始化RedisSaver\")\n",
    "            except Exception:\n",
    "                # 回退到内存存储\n",
    "                from langgraph.checkpoint.memory import MemorySaver\n",
    "                redis_app = graph.compile(checkpointer=MemorySaver())\n",
    "                print(\"⚠️ RedisSaver初始化失败，回退到内存存储\")\n",
    "\n",
    "    # 5. 聊天函数\n",
    "    def redis_chat(message: str, session_id: str = \"default\"):\n",
    "        config = {\"configurable\": {\"thread_id\": session_id}}\n",
    "        result = redis_app.invoke({\"messages\": [HumanMessage(content=message)]}, config=config)\n",
    "        return result[\"messages\"][-1].content\n",
    "\n",
    "    # 6. 测试Redis记忆对话\n",
    "    print(\"\\n🤖 Redis记忆对话测试:\")\n",
    "    print(\"=\" * 30)\n",
    "\n",
    "    # 测试对话\n",
    "    r1 = redis_chat(\"你好，我是赵六，是教师\", \"redis_demo\")\n",
    "    print(f\"👤 用户: 你好，我是赵六，是教师\")\n",
    "    print(f\"🤖 AI: {r1}\\n\")\n",
    "\n",
    "    r2 = redis_chat(\"我的职业是什么？\", \"redis_demo\")\n",
    "    print(f\"👤 用户: 我的职业是什么？\")\n",
    "    print(f\"🤖 AI: {r2}\\n\")\n",
    "\n",
    "    # 检查Redis存储\n",
    "    keys = redis_client.keys(\"*redis_demo*\")\n",
    "    print(f\"📊 Redis存储键数: {len(keys)}\")\n",
    "    print(\"✅ Redis记忆对话成功！仅25行代码实现持久化记忆\")\n",
    "\n",
    "except redis.ConnectionError:\n",
    "    print(\"❌ Redis连接失败，请启动Redis服务\")\n",
    "    print(\"安装: pip install redis\")\n",
    "    print(\"启动: redis-server\")\n",
    "except ImportError:\n",
    "    print(\"❌ 请安装: pip install langgraph-checkpoint-redis redis\")\n",
    "except Exception as e:\n",
    "    print(f\"❌ 错误: {e}\")"
   ]
  },
  {
   "cell_type": "code",
   "metadata": {
    "ExecuteTime": {
     "end_time": "2025-07-21T16:31:58.792923Z",
     "start_time": "2025-07-21T16:31:50.277253Z"
    }
   },
   "source": [
    "#\n",
    "# LangGraph + Redis 最小实现记忆对话\n",
    "from typing import Annotated, List\n",
    "from typing_extensions import TypedDict\n",
    "import redis\n",
    "from langgraph.graph import StateGraph, START, END\n",
    "from langgraph.graph.message import add_messages\n",
    "from langchain_core.messages import BaseMessage, HumanMessage, AIMessage, SystemMessage\n",
    "from langchain_openai import ChatOpenAI\n",
    "from langgraph.checkpoint.redis import RedisSaver\n",
    "\n",
    "# 1. 定义状态\n",
    "class State(TypedDict):\n",
    "    messages: Annotated[List[BaseMessage], add_messages]\n",
    "\n",
    "# 2. 创建聊天节点\n",
    "def chat_node(state: State):\n",
    "    # 使用 OpenAI 替代 Ollama\n",
    "    llm = OllamaLLM(model=\"gemma3:4b\", temperature=0.7)\n",
    "    system_msg = SystemMessage(content=\"你是AI助手，记忆存储在Redis中。\")\n",
    "    messages = [system_msg] + state[\"messages\"]\n",
    "    response = llm.invoke(messages)\n",
    "    return {\"messages\": [AIMessage(content=response.content)]}\n",
    "\n",
    "# 3. 构建图\n",
    "graph = StateGraph(State)\n",
    "graph.add_node(\"chat\", chat_node)\n",
    "graph.add_edge(START, \"chat\")\n",
    "graph.add_edge(\"chat\", END)\n",
    "\n",
    "# 4. 连接Redis并创建应用\n",
    "try:\n",
    "    # 创建Redis客户端\n",
    "    redis_client = redis.from_url(\"redis://localhost:6379/0\")\n",
    "    redis_client.ping()  # 测试连接\n",
    "    \n",
    "    # 使用RedisSaver初始化\n",
    "    redis_app = graph.compile(checkpointer=RedisSaver(redis_client=redis_client))\n",
    "    print(\"✅ Redis连接成功\")\n",
    "    \n",
    "    # 5. 聊天函数\n",
    "    def chat(message: str, session_id: str = \"default\"):\n",
    "        config = {\"configurable\": {\"thread_id\": session_id}}\n",
    "        result = redis_app.invoke({\"messages\": [HumanMessage(content=message)]}, config=config)\n",
    "        return result[\"messages\"][-1].content\n",
    "    \n",
    "    # 6. 测试对话\n",
    "    print(\"\\n🤖 Redis记忆对话测试:\")\n",
    "    print(\"=\" * 30)\n",
    "    \n",
    "    # 第一轮对话\n",
    "    r1 = chat(\"你好，我是张三，我是一名软件工程师\", \"user_session_1\")\n",
    "    print(f\"👤 用户: 你好，我是张三，我是一名软件工程师\")\n",
    "    print(f\"🤖 AI: {r1}\\n\")\n",
    "    \n",
    "    # 第二轮对话 - 测试记忆\n",
    "    r2 = chat(\"你还记得我的职业吗？\", \"user_session_1\")\n",
    "    print(f\"👤 用户: 你还记得我的职业吗？\")\n",
    "    print(f\"🤖 AI: {r2}\\n\")\n",
    "    \n",
    "    # 检查Redis存储\n",
    "    keys = redis_client.keys(\"*user_session_1*\")\n",
    "    print(f\"📊 Redis存储键数: {len(keys)}\")\n",
    "    print(\"✅ Redis记忆对话成功实现！\")\n",
    "    \n",
    "except redis.ConnectionError:\n",
    "    print(\"❌ Redis连接失败，请确保Redis服务已启动\")\n",
    "    print(\"安装: pip install redis\")\n",
    "    print(\"启动: redis-server\")\n",
    "except ImportError:\n",
    "    print(\"❌ 请安装必要的包: pip install langgraph-checkpoint-redis redis\")\n",
    "except Exception as e:\n",
    "    print(f\"❌ 错误: {str(e)}\")\n",
    "    \n",
    "    # 回退到内存存储\n",
    "    from langgraph.checkpoint.memory import MemorySaver\n",
    "    memory_app = graph.compile(checkpointer=MemorySaver())\n",
    "    print(\"⚠️ 回退到内存存储\")\n",
    "    \n",
    "    def chat_memory(message: str, session_id: str = \"default\"):\n",
    "        config = {\"configurable\": {\"thread_id\": session_id}}\n",
    "        result = memory_app.invoke({\"messages\": [HumanMessage(content=message)]}, config=config)\n",
    "        return result[\"messages\"][-1].content\n",
    "    \n",
    "    # 测试内存存储\n",
    "    print(\"\\n🤖 内存记忆对话测试:\")\n",
    "    print(\"=\" * 30)\n",
    "    \n",
    "    m1 = chat_memory(\"你好，我是李四，我是一名教师\", \"memory_session\")\n",
    "    print(f\"👤 用户: 你好，我是李四，我是一名教师\")\n",
    "    print(f\"🤖 AI: {m1}\\n\")\n",
    "    \n",
    "    m2 = chat_memory(\"你还记得我的职业吗？\", \"memory_session\")\n",
    "    print(f\"👤 用户: 你还记得我的职业吗？\")\n",
    "    print(f\"🤖 AI: {m2}\\n\")\n",
    "    \n",
    "    print(\"✅ 内存记忆对话成功实现！\")"
   ],
   "outputs": [
    {
     "name": "stdout",
     "output_type": "stream",
     "text": [
      "✅ Redis连接成功\n",
      "\n",
      "🤖 Redis记忆对话测试:\n",
      "==============================\n",
      "❌ 错误: Unexpected error while searching: Required Redis db module search >= 20600 OR searchlight >= 20600 not installed. See Redis Stack docs at https://redis.io/docs/latest/operate/oss_and_stack/install/install-stack/.\n",
      "⚠️ 回退到内存存储\n",
      "\n",
      "🤖 内存记忆对话测试:\n",
      "==============================\n",
      "00:31:54 httpx INFO   HTTP Request: POST http://127.0.0.1:11434/api/generate \"HTTP/1.1 200 OK\"\n"
     ]
    },
    {
     "ename": "AttributeError",
     "evalue": "'str' object has no attribute 'content'",
     "output_type": "error",
     "traceback": [
      "\u001B[31m---------------------------------------------------------------------------\u001B[39m",
      "\u001B[31mRedisModuleVersionError\u001B[39m                   Traceback (most recent call last)",
      "\u001B[36mFile \u001B[39m\u001B[32mD:\\javaDevelopment\\program_project\\Pycharm_project\\darwinAgent\\.venv\\Lib\\site-packages\\redisvl\\index\\index.py:926\u001B[39m, in \u001B[36mSearchIndex.search\u001B[39m\u001B[34m(self, *args, **kwargs)\u001B[39m\n\u001B[32m    925\u001B[39m \u001B[38;5;28;01mtry\u001B[39;00m:\n\u001B[32m--> \u001B[39m\u001B[32m926\u001B[39m     \u001B[38;5;28;01mif\u001B[39;00m \u001B[38;5;28misinstance\u001B[39m(\u001B[38;5;28;43mself\u001B[39;49m\u001B[43m.\u001B[49m\u001B[43m_redis_client\u001B[49m, RedisCluster):\n\u001B[32m    927\u001B[39m         \u001B[38;5;66;03m# Use special cluster search for RedisCluster\u001B[39;00m\n\u001B[32m    928\u001B[39m         \u001B[38;5;28;01mreturn\u001B[39;00m cluster_search(\n\u001B[32m    929\u001B[39m             \u001B[38;5;28mself\u001B[39m._redis_client.ft(\u001B[38;5;28mself\u001B[39m.schema.index.name),\n\u001B[32m    930\u001B[39m             *args,\n\u001B[32m    931\u001B[39m             **kwargs,  \u001B[38;5;66;03m# type: ignore\u001B[39;00m\n\u001B[32m    932\u001B[39m         )\n",
      "\u001B[36mFile \u001B[39m\u001B[32mD:\\javaDevelopment\\program_project\\Pycharm_project\\darwinAgent\\.venv\\Lib\\site-packages\\redisvl\\index\\index.py:488\u001B[39m, in \u001B[36mSearchIndex._redis_client\u001B[39m\u001B[34m(self)\u001B[39m\n\u001B[32m    487\u001B[39m \u001B[38;5;28;01mif\u001B[39;00m \u001B[38;5;129;01mnot\u001B[39;00m \u001B[38;5;28mself\u001B[39m._validated_client:\n\u001B[32m--> \u001B[39m\u001B[32m488\u001B[39m     \u001B[43mRedisConnectionFactory\u001B[49m\u001B[43m.\u001B[49m\u001B[43mvalidate_sync_redis\u001B[49m\u001B[43m(\u001B[49m\n\u001B[32m    489\u001B[39m \u001B[43m        \u001B[49m\u001B[38;5;28;43mself\u001B[39;49m\u001B[43m.\u001B[49m\u001B[43m__redis_client\u001B[49m\u001B[43m,\u001B[49m\n\u001B[32m    490\u001B[39m \u001B[43m        \u001B[49m\u001B[38;5;28;43mself\u001B[39;49m\u001B[43m.\u001B[49m\u001B[43m_lib_name\u001B[49m\u001B[43m,\u001B[49m\n\u001B[32m    491\u001B[39m \u001B[43m    \u001B[49m\u001B[43m)\u001B[49m\n\u001B[32m    492\u001B[39m     \u001B[38;5;28mself\u001B[39m._validated_client = \u001B[38;5;28;01mTrue\u001B[39;00m\n",
      "\u001B[36mFile \u001B[39m\u001B[32mD:\\javaDevelopment\\program_project\\Pycharm_project\\darwinAgent\\.venv\\Lib\\site-packages\\redisvl\\redis\\connection.py:411\u001B[39m, in \u001B[36mRedisConnectionFactory.validate_sync_redis\u001B[39m\u001B[34m(redis_client, lib_name, required_modules)\u001B[39m\n\u001B[32m    410\u001B[39m \u001B[38;5;66;03m# Validate available modules\u001B[39;00m\n\u001B[32m--> \u001B[39m\u001B[32m411\u001B[39m \u001B[43mvalidate_modules\u001B[49m\u001B[43m(\u001B[49m\u001B[43minstalled_modules\u001B[49m\u001B[43m,\u001B[49m\u001B[43m \u001B[49m\u001B[43mrequired_modules\u001B[49m\u001B[43m)\u001B[49m\n",
      "\u001B[36mFile \u001B[39m\u001B[32mD:\\javaDevelopment\\program_project\\Pycharm_project\\darwinAgent\\.venv\\Lib\\site-packages\\redisvl\\redis\\connection.py:189\u001B[39m, in \u001B[36mvalidate_modules\u001B[39m\u001B[34m(installed_modules, required_modules)\u001B[39m\n\u001B[32m    184\u001B[39m error_message = (\n\u001B[32m    185\u001B[39m     \u001B[33mf\u001B[39m\u001B[33m\"\u001B[39m\u001B[33mRequired Redis db module \u001B[39m\u001B[38;5;132;01m{\u001B[39;00mrequired_modules_str\u001B[38;5;132;01m}\u001B[39;00m\u001B[33m not installed. \u001B[39m\u001B[33m\"\u001B[39m\n\u001B[32m    186\u001B[39m     \u001B[33m\"\u001B[39m\u001B[33mSee Redis Stack docs at https://redis.io/docs/latest/operate/oss_and_stack/install/install-stack/.\u001B[39m\u001B[33m\"\u001B[39m\n\u001B[32m    187\u001B[39m )\n\u001B[32m--> \u001B[39m\u001B[32m189\u001B[39m \u001B[38;5;28;01mraise\u001B[39;00m RedisModuleVersionError(error_message)\n",
      "\u001B[31mRedisModuleVersionError\u001B[39m: Required Redis db module search >= 20600 OR searchlight >= 20600 not installed. See Redis Stack docs at https://redis.io/docs/latest/operate/oss_and_stack/install/install-stack/.",
      "\nThe above exception was the direct cause of the following exception:\n",
      "\u001B[31mRedisSearchError\u001B[39m                          Traceback (most recent call last)",
      "\u001B[36mCell\u001B[39m\u001B[36m \u001B[39m\u001B[32mIn[20]\u001B[39m\u001B[32m, line 52\u001B[39m\n\u001B[32m     51\u001B[39m \u001B[38;5;66;03m# 第一轮对话\u001B[39;00m\n\u001B[32m---> \u001B[39m\u001B[32m52\u001B[39m r1 = \u001B[43mchat\u001B[49m\u001B[43m(\u001B[49m\u001B[33;43m\"\u001B[39;49m\u001B[33;43m你好，我是张三，我是一名软件工程师\u001B[39;49m\u001B[33;43m\"\u001B[39;49m\u001B[43m,\u001B[49m\u001B[43m \u001B[49m\u001B[33;43m\"\u001B[39;49m\u001B[33;43muser_session_1\u001B[39;49m\u001B[33;43m\"\u001B[39;49m\u001B[43m)\u001B[49m\n\u001B[32m     53\u001B[39m \u001B[38;5;28mprint\u001B[39m(\u001B[33mf\u001B[39m\u001B[33m\"\u001B[39m\u001B[33m👤 用户: 你好，我是张三，我是一名软件工程师\u001B[39m\u001B[33m\"\u001B[39m)\n",
      "\u001B[36mCell\u001B[39m\u001B[36m \u001B[39m\u001B[32mIn[20]\u001B[39m\u001B[32m, line 44\u001B[39m, in \u001B[36mchat\u001B[39m\u001B[34m(message, session_id)\u001B[39m\n\u001B[32m     43\u001B[39m config = {\u001B[33m\"\u001B[39m\u001B[33mconfigurable\u001B[39m\u001B[33m\"\u001B[39m: {\u001B[33m\"\u001B[39m\u001B[33mthread_id\u001B[39m\u001B[33m\"\u001B[39m: session_id}}\n\u001B[32m---> \u001B[39m\u001B[32m44\u001B[39m result = \u001B[43mredis_app\u001B[49m\u001B[43m.\u001B[49m\u001B[43minvoke\u001B[49m\u001B[43m(\u001B[49m\u001B[43m{\u001B[49m\u001B[33;43m\"\u001B[39;49m\u001B[33;43mmessages\u001B[39;49m\u001B[33;43m\"\u001B[39;49m\u001B[43m:\u001B[49m\u001B[43m \u001B[49m\u001B[43m[\u001B[49m\u001B[43mHumanMessage\u001B[49m\u001B[43m(\u001B[49m\u001B[43mcontent\u001B[49m\u001B[43m=\u001B[49m\u001B[43mmessage\u001B[49m\u001B[43m)\u001B[49m\u001B[43m]\u001B[49m\u001B[43m}\u001B[49m\u001B[43m,\u001B[49m\u001B[43m \u001B[49m\u001B[43mconfig\u001B[49m\u001B[43m=\u001B[49m\u001B[43mconfig\u001B[49m\u001B[43m)\u001B[49m\n\u001B[32m     45\u001B[39m \u001B[38;5;28;01mreturn\u001B[39;00m result[\u001B[33m\"\u001B[39m\u001B[33mmessages\u001B[39m\u001B[33m\"\u001B[39m][-\u001B[32m1\u001B[39m].content\n",
      "\u001B[36mFile \u001B[39m\u001B[32mD:\\javaDevelopment\\program_project\\Pycharm_project\\darwinAgent\\.venv\\Lib\\site-packages\\langgraph\\pregel\\__init__.py:2844\u001B[39m, in \u001B[36mPregel.invoke\u001B[39m\u001B[34m(self, input, config, stream_mode, print_mode, output_keys, interrupt_before, interrupt_after, **kwargs)\u001B[39m\n\u001B[32m   2842\u001B[39m interrupts: \u001B[38;5;28mlist\u001B[39m[Interrupt] = []\n\u001B[32m-> \u001B[39m\u001B[32m2844\u001B[39m \u001B[43m\u001B[49m\u001B[38;5;28;43;01mfor\u001B[39;49;00m\u001B[43m \u001B[49m\u001B[43mchunk\u001B[49m\u001B[43m \u001B[49m\u001B[38;5;129;43;01min\u001B[39;49;00m\u001B[43m \u001B[49m\u001B[38;5;28;43mself\u001B[39;49m\u001B[43m.\u001B[49m\u001B[43mstream\u001B[49m\u001B[43m(\u001B[49m\n\u001B[32m   2845\u001B[39m \u001B[43m    \u001B[49m\u001B[38;5;28;43minput\u001B[39;49m\u001B[43m,\u001B[49m\n\u001B[32m   2846\u001B[39m \u001B[43m    \u001B[49m\u001B[43mconfig\u001B[49m\u001B[43m,\u001B[49m\n\u001B[32m   2847\u001B[39m \u001B[43m    \u001B[49m\u001B[43mstream_mode\u001B[49m\u001B[43m=\u001B[49m\u001B[43m[\u001B[49m\u001B[33;43m\"\u001B[39;49m\u001B[33;43mupdates\u001B[39;49m\u001B[33;43m\"\u001B[39;49m\u001B[43m,\u001B[49m\u001B[43m \u001B[49m\u001B[33;43m\"\u001B[39;49m\u001B[33;43mvalues\u001B[39;49m\u001B[33;43m\"\u001B[39;49m\u001B[43m]\u001B[49m\n\u001B[32m   2848\u001B[39m \u001B[43m    \u001B[49m\u001B[38;5;28;43;01mif\u001B[39;49;00m\u001B[43m \u001B[49m\u001B[43mstream_mode\u001B[49m\u001B[43m \u001B[49m\u001B[43m==\u001B[49m\u001B[43m \u001B[49m\u001B[33;43m\"\u001B[39;49m\u001B[33;43mvalues\u001B[39;49m\u001B[33;43m\"\u001B[39;49m\n\u001B[32m   2849\u001B[39m \u001B[43m    \u001B[49m\u001B[38;5;28;43;01melse\u001B[39;49;00m\u001B[43m \u001B[49m\u001B[43mstream_mode\u001B[49m\u001B[43m,\u001B[49m\n\u001B[32m   2850\u001B[39m \u001B[43m    \u001B[49m\u001B[43mprint_mode\u001B[49m\u001B[43m=\u001B[49m\u001B[43mprint_mode\u001B[49m\u001B[43m,\u001B[49m\n\u001B[32m   2851\u001B[39m \u001B[43m    \u001B[49m\u001B[43moutput_keys\u001B[49m\u001B[43m=\u001B[49m\u001B[43moutput_keys\u001B[49m\u001B[43m,\u001B[49m\n\u001B[32m   2852\u001B[39m \u001B[43m    \u001B[49m\u001B[43minterrupt_before\u001B[49m\u001B[43m=\u001B[49m\u001B[43minterrupt_before\u001B[49m\u001B[43m,\u001B[49m\n\u001B[32m   2853\u001B[39m \u001B[43m    \u001B[49m\u001B[43minterrupt_after\u001B[49m\u001B[43m=\u001B[49m\u001B[43minterrupt_after\u001B[49m\u001B[43m,\u001B[49m\n\u001B[32m   2854\u001B[39m \u001B[43m    \u001B[49m\u001B[43m*\u001B[49m\u001B[43m*\u001B[49m\u001B[43mkwargs\u001B[49m\u001B[43m,\u001B[49m\n\u001B[32m   2855\u001B[39m \u001B[43m\u001B[49m\u001B[43m)\u001B[49m\u001B[43m:\u001B[49m\n\u001B[32m   2856\u001B[39m \u001B[43m    \u001B[49m\u001B[38;5;28;43;01mif\u001B[39;49;00m\u001B[43m \u001B[49m\u001B[43mstream_mode\u001B[49m\u001B[43m \u001B[49m\u001B[43m==\u001B[49m\u001B[43m \u001B[49m\u001B[33;43m\"\u001B[39;49m\u001B[33;43mvalues\u001B[39;49m\u001B[33;43m\"\u001B[39;49m\u001B[43m:\u001B[49m\n",
      "\u001B[36mFile \u001B[39m\u001B[32mD:\\javaDevelopment\\program_project\\Pycharm_project\\darwinAgent\\.venv\\Lib\\site-packages\\langgraph\\pregel\\__init__.py:2467\u001B[39m, in \u001B[36mPregel.stream\u001B[39m\u001B[34m(self, input, config, stream_mode, print_mode, output_keys, interrupt_before, interrupt_after, checkpoint_during, debug, subgraphs)\u001B[39m\n\u001B[32m   2466\u001B[39m     config[CONF][CONFIG_KEY_CHECKPOINT_DURING] = checkpoint_during\n\u001B[32m-> \u001B[39m\u001B[32m2467\u001B[39m \u001B[43m\u001B[49m\u001B[38;5;28;43;01mwith\u001B[39;49;00m\u001B[43m \u001B[49m\u001B[43mSyncPregelLoop\u001B[49m\u001B[43m(\u001B[49m\n\u001B[32m   2468\u001B[39m \u001B[43m    \u001B[49m\u001B[38;5;28;43minput\u001B[39;49m\u001B[43m,\u001B[49m\n\u001B[32m   2469\u001B[39m \u001B[43m    \u001B[49m\u001B[43mstream\u001B[49m\u001B[43m=\u001B[49m\u001B[43mStreamProtocol\u001B[49m\u001B[43m(\u001B[49m\u001B[43mstream\u001B[49m\u001B[43m.\u001B[49m\u001B[43mput\u001B[49m\u001B[43m,\u001B[49m\u001B[43m \u001B[49m\u001B[43mstream_modes\u001B[49m\u001B[43m)\u001B[49m\u001B[43m,\u001B[49m\n\u001B[32m   2470\u001B[39m \u001B[43m    \u001B[49m\u001B[43mconfig\u001B[49m\u001B[43m=\u001B[49m\u001B[43mconfig\u001B[49m\u001B[43m,\u001B[49m\n\u001B[32m   2471\u001B[39m \u001B[43m    \u001B[49m\u001B[43mstore\u001B[49m\u001B[43m=\u001B[49m\u001B[43mstore\u001B[49m\u001B[43m,\u001B[49m\n\u001B[32m   2472\u001B[39m \u001B[43m    \u001B[49m\u001B[43mcache\u001B[49m\u001B[43m=\u001B[49m\u001B[43mcache\u001B[49m\u001B[43m,\u001B[49m\n\u001B[32m   2473\u001B[39m \u001B[43m    \u001B[49m\u001B[43mcheckpointer\u001B[49m\u001B[43m=\u001B[49m\u001B[43mcheckpointer\u001B[49m\u001B[43m,\u001B[49m\n\u001B[32m   2474\u001B[39m \u001B[43m    \u001B[49m\u001B[43mnodes\u001B[49m\u001B[43m=\u001B[49m\u001B[38;5;28;43mself\u001B[39;49m\u001B[43m.\u001B[49m\u001B[43mnodes\u001B[49m\u001B[43m,\u001B[49m\n\u001B[32m   2475\u001B[39m \u001B[43m    \u001B[49m\u001B[43mspecs\u001B[49m\u001B[43m=\u001B[49m\u001B[38;5;28;43mself\u001B[39;49m\u001B[43m.\u001B[49m\u001B[43mchannels\u001B[49m\u001B[43m,\u001B[49m\n\u001B[32m   2476\u001B[39m \u001B[43m    \u001B[49m\u001B[43moutput_keys\u001B[49m\u001B[43m=\u001B[49m\u001B[43moutput_keys\u001B[49m\u001B[43m,\u001B[49m\n\u001B[32m   2477\u001B[39m \u001B[43m    \u001B[49m\u001B[43minput_keys\u001B[49m\u001B[43m=\u001B[49m\u001B[38;5;28;43mself\u001B[39;49m\u001B[43m.\u001B[49m\u001B[43minput_channels\u001B[49m\u001B[43m,\u001B[49m\n\u001B[32m   2478\u001B[39m \u001B[43m    \u001B[49m\u001B[43mstream_keys\u001B[49m\u001B[43m=\u001B[49m\u001B[38;5;28;43mself\u001B[39;49m\u001B[43m.\u001B[49m\u001B[43mstream_channels_asis\u001B[49m\u001B[43m,\u001B[49m\n\u001B[32m   2479\u001B[39m \u001B[43m    \u001B[49m\u001B[43minterrupt_before\u001B[49m\u001B[43m=\u001B[49m\u001B[43minterrupt_before_\u001B[49m\u001B[43m,\u001B[49m\n\u001B[32m   2480\u001B[39m \u001B[43m    \u001B[49m\u001B[43minterrupt_after\u001B[49m\u001B[43m=\u001B[49m\u001B[43minterrupt_after_\u001B[49m\u001B[43m,\u001B[49m\n\u001B[32m   2481\u001B[39m \u001B[43m    \u001B[49m\u001B[43mmanager\u001B[49m\u001B[43m=\u001B[49m\u001B[43mrun_manager\u001B[49m\u001B[43m,\u001B[49m\n\u001B[32m   2482\u001B[39m \u001B[43m    \u001B[49m\u001B[43mcheckpoint_during\u001B[49m\u001B[43m=\u001B[49m\u001B[43mcheckpoint_during\u001B[49m\n\u001B[32m   2483\u001B[39m \u001B[43m    \u001B[49m\u001B[38;5;28;43;01mif\u001B[39;49;00m\u001B[43m \u001B[49m\u001B[43mcheckpoint_during\u001B[49m\u001B[43m \u001B[49m\u001B[38;5;129;43;01mis\u001B[39;49;00m\u001B[43m \u001B[49m\u001B[38;5;129;43;01mnot\u001B[39;49;00m\u001B[43m \u001B[49m\u001B[38;5;28;43;01mNone\u001B[39;49;00m\n\u001B[32m   2484\u001B[39m \u001B[43m    \u001B[49m\u001B[38;5;28;43;01melse\u001B[39;49;00m\u001B[43m \u001B[49m\u001B[43mconfig\u001B[49m\u001B[43m[\u001B[49m\u001B[43mCONF\u001B[49m\u001B[43m]\u001B[49m\u001B[43m.\u001B[49m\u001B[43mget\u001B[49m\u001B[43m(\u001B[49m\u001B[43mCONFIG_KEY_CHECKPOINT_DURING\u001B[49m\u001B[43m,\u001B[49m\u001B[43m \u001B[49m\u001B[38;5;28;43;01mTrue\u001B[39;49;00m\u001B[43m)\u001B[49m\u001B[43m,\u001B[49m\n\u001B[32m   2485\u001B[39m \u001B[43m    \u001B[49m\u001B[43mtrigger_to_nodes\u001B[49m\u001B[43m=\u001B[49m\u001B[38;5;28;43mself\u001B[39;49m\u001B[43m.\u001B[49m\u001B[43mtrigger_to_nodes\u001B[49m\u001B[43m,\u001B[49m\n\u001B[32m   2486\u001B[39m \u001B[43m    \u001B[49m\u001B[43mmigrate_checkpoint\u001B[49m\u001B[43m=\u001B[49m\u001B[38;5;28;43mself\u001B[39;49m\u001B[43m.\u001B[49m\u001B[43m_migrate_checkpoint\u001B[49m\u001B[43m,\u001B[49m\n\u001B[32m   2487\u001B[39m \u001B[43m    \u001B[49m\u001B[43mretry_policy\u001B[49m\u001B[43m=\u001B[49m\u001B[38;5;28;43mself\u001B[39;49m\u001B[43m.\u001B[49m\u001B[43mretry_policy\u001B[49m\u001B[43m,\u001B[49m\n\u001B[32m   2488\u001B[39m \u001B[43m    \u001B[49m\u001B[43mcache_policy\u001B[49m\u001B[43m=\u001B[49m\u001B[38;5;28;43mself\u001B[39;49m\u001B[43m.\u001B[49m\u001B[43mcache_policy\u001B[49m\u001B[43m,\u001B[49m\n\u001B[32m   2489\u001B[39m \u001B[43m\u001B[49m\u001B[43m)\u001B[49m\u001B[43m \u001B[49m\u001B[38;5;28;43;01mas\u001B[39;49;00m\u001B[43m \u001B[49m\u001B[43mloop\u001B[49m\u001B[43m:\u001B[49m\n\u001B[32m   2490\u001B[39m \u001B[43m    \u001B[49m\u001B[38;5;66;43;03m# create runner\u001B[39;49;00m\n\u001B[32m   2491\u001B[39m \u001B[43m    \u001B[49m\u001B[43mrunner\u001B[49m\u001B[43m \u001B[49m\u001B[43m=\u001B[49m\u001B[43m \u001B[49m\u001B[43mPregelRunner\u001B[49m\u001B[43m(\u001B[49m\n\u001B[32m   2492\u001B[39m \u001B[43m        \u001B[49m\u001B[43msubmit\u001B[49m\u001B[43m=\u001B[49m\u001B[43mconfig\u001B[49m\u001B[43m[\u001B[49m\u001B[43mCONF\u001B[49m\u001B[43m]\u001B[49m\u001B[43m.\u001B[49m\u001B[43mget\u001B[49m\u001B[43m(\u001B[49m\n\u001B[32m   2493\u001B[39m \u001B[43m            \u001B[49m\u001B[43mCONFIG_KEY_RUNNER_SUBMIT\u001B[49m\u001B[43m,\u001B[49m\u001B[43m \u001B[49m\u001B[43mweakref\u001B[49m\u001B[43m.\u001B[49m\u001B[43mWeakMethod\u001B[49m\u001B[43m(\u001B[49m\u001B[43mloop\u001B[49m\u001B[43m.\u001B[49m\u001B[43msubmit\u001B[49m\u001B[43m)\u001B[49m\n\u001B[32m   (...)\u001B[39m\u001B[32m   2496\u001B[39m \u001B[43m        \u001B[49m\u001B[43mnode_finished\u001B[49m\u001B[43m=\u001B[49m\u001B[43mconfig\u001B[49m\u001B[43m[\u001B[49m\u001B[43mCONF\u001B[49m\u001B[43m]\u001B[49m\u001B[43m.\u001B[49m\u001B[43mget\u001B[49m\u001B[43m(\u001B[49m\u001B[43mCONFIG_KEY_NODE_FINISHED\u001B[49m\u001B[43m)\u001B[49m\u001B[43m,\u001B[49m\n\u001B[32m   2497\u001B[39m \u001B[43m    \u001B[49m\u001B[43m)\u001B[49m\n",
      "\u001B[36mFile \u001B[39m\u001B[32mD:\\javaDevelopment\\program_project\\Pycharm_project\\darwinAgent\\.venv\\Lib\\site-packages\\langgraph\\pregel\\loop.py:1003\u001B[39m, in \u001B[36mSyncPregelLoop.__enter__\u001B[39m\u001B[34m(self)\u001B[39m\n\u001B[32m   1002\u001B[39m \u001B[38;5;28;01mif\u001B[39;00m \u001B[38;5;28mself\u001B[39m.checkpointer:\n\u001B[32m-> \u001B[39m\u001B[32m1003\u001B[39m     saved = \u001B[38;5;28;43mself\u001B[39;49m\u001B[43m.\u001B[49m\u001B[43mcheckpointer\u001B[49m\u001B[43m.\u001B[49m\u001B[43mget_tuple\u001B[49m\u001B[43m(\u001B[49m\u001B[38;5;28;43mself\u001B[39;49m\u001B[43m.\u001B[49m\u001B[43mcheckpoint_config\u001B[49m\u001B[43m)\u001B[49m\n\u001B[32m   1004\u001B[39m \u001B[38;5;28;01melse\u001B[39;00m:\n",
      "\u001B[36mFile \u001B[39m\u001B[32mD:\\javaDevelopment\\program_project\\Pycharm_project\\darwinAgent\\.venv\\Lib\\site-packages\\langgraph\\checkpoint\\redis\\__init__.py:361\u001B[39m, in \u001B[36mRedisSaver.get_tuple\u001B[39m\u001B[34m(self, config)\u001B[39m\n\u001B[32m    360\u001B[39m \u001B[38;5;66;03m# Execute the query\u001B[39;00m\n\u001B[32m--> \u001B[39m\u001B[32m361\u001B[39m results = \u001B[38;5;28;43mself\u001B[39;49m\u001B[43m.\u001B[49m\u001B[43mcheckpoints_index\u001B[49m\u001B[43m.\u001B[49m\u001B[43msearch\u001B[49m\u001B[43m(\u001B[49m\u001B[43mcheckpoints_query\u001B[49m\u001B[43m)\u001B[49m\n\u001B[32m    362\u001B[39m \u001B[38;5;28;01mif\u001B[39;00m \u001B[38;5;129;01mnot\u001B[39;00m results.docs:\n",
      "\u001B[36mFile \u001B[39m\u001B[32mD:\\javaDevelopment\\program_project\\Pycharm_project\\darwinAgent\\.venv\\Lib\\site-packages\\redisvl\\index\\index.py:944\u001B[39m, in \u001B[36mSearchIndex.search\u001B[39m\u001B[34m(self, *args, **kwargs)\u001B[39m\n\u001B[32m    943\u001B[39m \u001B[38;5;28;01mexcept\u001B[39;00m \u001B[38;5;167;01mException\u001B[39;00m \u001B[38;5;28;01mas\u001B[39;00m e:\n\u001B[32m--> \u001B[39m\u001B[32m944\u001B[39m     \u001B[38;5;28;01mraise\u001B[39;00m RedisSearchError(\u001B[33mf\u001B[39m\u001B[33m\"\u001B[39m\u001B[33mUnexpected error while searching: \u001B[39m\u001B[38;5;132;01m{\u001B[39;00m\u001B[38;5;28mstr\u001B[39m(e)\u001B[38;5;132;01m}\u001B[39;00m\u001B[33m\"\u001B[39m) \u001B[38;5;28;01mfrom\u001B[39;00m\u001B[38;5;250m \u001B[39m\u001B[34;01me\u001B[39;00m\n",
      "\u001B[31mRedisSearchError\u001B[39m: Unexpected error while searching: Required Redis db module search >= 20600 OR searchlight >= 20600 not installed. See Redis Stack docs at https://redis.io/docs/latest/operate/oss_and_stack/install/install-stack/.",
      "\nDuring handling of the above exception, another exception occurred:\n",
      "\u001B[31mAttributeError\u001B[39m                            Traceback (most recent call last)",
      "\u001B[36mCell\u001B[39m\u001B[36m \u001B[39m\u001B[32mIn[20]\u001B[39m\u001B[32m, line 89\u001B[39m\n\u001B[32m     86\u001B[39m \u001B[38;5;28mprint\u001B[39m(\u001B[33m\"\u001B[39m\u001B[38;5;130;01m\\n\u001B[39;00m\u001B[33m🤖 内存记忆对话测试:\u001B[39m\u001B[33m\"\u001B[39m)\n\u001B[32m     87\u001B[39m \u001B[38;5;28mprint\u001B[39m(\u001B[33m\"\u001B[39m\u001B[33m=\u001B[39m\u001B[33m\"\u001B[39m * \u001B[32m30\u001B[39m)\n\u001B[32m---> \u001B[39m\u001B[32m89\u001B[39m m1 = \u001B[43mchat_memory\u001B[49m\u001B[43m(\u001B[49m\u001B[33;43m\"\u001B[39;49m\u001B[33;43m你好，我是李四，我是一名教师\u001B[39;49m\u001B[33;43m\"\u001B[39;49m\u001B[43m,\u001B[49m\u001B[43m \u001B[49m\u001B[33;43m\"\u001B[39;49m\u001B[33;43mmemory_session\u001B[39;49m\u001B[33;43m\"\u001B[39;49m\u001B[43m)\u001B[49m\n\u001B[32m     90\u001B[39m \u001B[38;5;28mprint\u001B[39m(\u001B[33mf\u001B[39m\u001B[33m\"\u001B[39m\u001B[33m👤 用户: 你好，我是李四，我是一名教师\u001B[39m\u001B[33m\"\u001B[39m)\n\u001B[32m     91\u001B[39m \u001B[38;5;28mprint\u001B[39m(\u001B[33mf\u001B[39m\u001B[33m\"\u001B[39m\u001B[33m🤖 AI: \u001B[39m\u001B[38;5;132;01m{\u001B[39;00mm1\u001B[38;5;132;01m}\u001B[39;00m\u001B[38;5;130;01m\\n\u001B[39;00m\u001B[33m\"\u001B[39m)\n",
      "\u001B[36mCell\u001B[39m\u001B[36m \u001B[39m\u001B[32mIn[20]\u001B[39m\u001B[32m, line 82\u001B[39m, in \u001B[36mchat_memory\u001B[39m\u001B[34m(message, session_id)\u001B[39m\n\u001B[32m     80\u001B[39m \u001B[38;5;28;01mdef\u001B[39;00m\u001B[38;5;250m \u001B[39m\u001B[34mchat_memory\u001B[39m(message: \u001B[38;5;28mstr\u001B[39m, session_id: \u001B[38;5;28mstr\u001B[39m = \u001B[33m\"\u001B[39m\u001B[33mdefault\u001B[39m\u001B[33m\"\u001B[39m):\n\u001B[32m     81\u001B[39m     config = {\u001B[33m\"\u001B[39m\u001B[33mconfigurable\u001B[39m\u001B[33m\"\u001B[39m: {\u001B[33m\"\u001B[39m\u001B[33mthread_id\u001B[39m\u001B[33m\"\u001B[39m: session_id}}\n\u001B[32m---> \u001B[39m\u001B[32m82\u001B[39m     result = \u001B[43mmemory_app\u001B[49m\u001B[43m.\u001B[49m\u001B[43minvoke\u001B[49m\u001B[43m(\u001B[49m\u001B[43m{\u001B[49m\u001B[33;43m\"\u001B[39;49m\u001B[33;43mmessages\u001B[39;49m\u001B[33;43m\"\u001B[39;49m\u001B[43m:\u001B[49m\u001B[43m \u001B[49m\u001B[43m[\u001B[49m\u001B[43mHumanMessage\u001B[49m\u001B[43m(\u001B[49m\u001B[43mcontent\u001B[49m\u001B[43m=\u001B[49m\u001B[43mmessage\u001B[49m\u001B[43m)\u001B[49m\u001B[43m]\u001B[49m\u001B[43m}\u001B[49m\u001B[43m,\u001B[49m\u001B[43m \u001B[49m\u001B[43mconfig\u001B[49m\u001B[43m=\u001B[49m\u001B[43mconfig\u001B[49m\u001B[43m)\u001B[49m\n\u001B[32m     83\u001B[39m     \u001B[38;5;28;01mreturn\u001B[39;00m result[\u001B[33m\"\u001B[39m\u001B[33mmessages\u001B[39m\u001B[33m\"\u001B[39m][-\u001B[32m1\u001B[39m].content\n",
      "\u001B[36mFile \u001B[39m\u001B[32mD:\\javaDevelopment\\program_project\\Pycharm_project\\darwinAgent\\.venv\\Lib\\site-packages\\langgraph\\pregel\\__init__.py:2844\u001B[39m, in \u001B[36mPregel.invoke\u001B[39m\u001B[34m(self, input, config, stream_mode, print_mode, output_keys, interrupt_before, interrupt_after, **kwargs)\u001B[39m\n\u001B[32m   2841\u001B[39m chunks: \u001B[38;5;28mlist\u001B[39m[\u001B[38;5;28mdict\u001B[39m[\u001B[38;5;28mstr\u001B[39m, Any] | Any] = []\n\u001B[32m   2842\u001B[39m interrupts: \u001B[38;5;28mlist\u001B[39m[Interrupt] = []\n\u001B[32m-> \u001B[39m\u001B[32m2844\u001B[39m \u001B[43m\u001B[49m\u001B[38;5;28;43;01mfor\u001B[39;49;00m\u001B[43m \u001B[49m\u001B[43mchunk\u001B[49m\u001B[43m \u001B[49m\u001B[38;5;129;43;01min\u001B[39;49;00m\u001B[43m \u001B[49m\u001B[38;5;28;43mself\u001B[39;49m\u001B[43m.\u001B[49m\u001B[43mstream\u001B[49m\u001B[43m(\u001B[49m\n\u001B[32m   2845\u001B[39m \u001B[43m    \u001B[49m\u001B[38;5;28;43minput\u001B[39;49m\u001B[43m,\u001B[49m\n\u001B[32m   2846\u001B[39m \u001B[43m    \u001B[49m\u001B[43mconfig\u001B[49m\u001B[43m,\u001B[49m\n\u001B[32m   2847\u001B[39m \u001B[43m    \u001B[49m\u001B[43mstream_mode\u001B[49m\u001B[43m=\u001B[49m\u001B[43m[\u001B[49m\u001B[33;43m\"\u001B[39;49m\u001B[33;43mupdates\u001B[39;49m\u001B[33;43m\"\u001B[39;49m\u001B[43m,\u001B[49m\u001B[43m \u001B[49m\u001B[33;43m\"\u001B[39;49m\u001B[33;43mvalues\u001B[39;49m\u001B[33;43m\"\u001B[39;49m\u001B[43m]\u001B[49m\n\u001B[32m   2848\u001B[39m \u001B[43m    \u001B[49m\u001B[38;5;28;43;01mif\u001B[39;49;00m\u001B[43m \u001B[49m\u001B[43mstream_mode\u001B[49m\u001B[43m \u001B[49m\u001B[43m==\u001B[49m\u001B[43m \u001B[49m\u001B[33;43m\"\u001B[39;49m\u001B[33;43mvalues\u001B[39;49m\u001B[33;43m\"\u001B[39;49m\n\u001B[32m   2849\u001B[39m \u001B[43m    \u001B[49m\u001B[38;5;28;43;01melse\u001B[39;49;00m\u001B[43m \u001B[49m\u001B[43mstream_mode\u001B[49m\u001B[43m,\u001B[49m\n\u001B[32m   2850\u001B[39m \u001B[43m    \u001B[49m\u001B[43mprint_mode\u001B[49m\u001B[43m=\u001B[49m\u001B[43mprint_mode\u001B[49m\u001B[43m,\u001B[49m\n\u001B[32m   2851\u001B[39m \u001B[43m    \u001B[49m\u001B[43moutput_keys\u001B[49m\u001B[43m=\u001B[49m\u001B[43moutput_keys\u001B[49m\u001B[43m,\u001B[49m\n\u001B[32m   2852\u001B[39m \u001B[43m    \u001B[49m\u001B[43minterrupt_before\u001B[49m\u001B[43m=\u001B[49m\u001B[43minterrupt_before\u001B[49m\u001B[43m,\u001B[49m\n\u001B[32m   2853\u001B[39m \u001B[43m    \u001B[49m\u001B[43minterrupt_after\u001B[49m\u001B[43m=\u001B[49m\u001B[43minterrupt_after\u001B[49m\u001B[43m,\u001B[49m\n\u001B[32m   2854\u001B[39m \u001B[43m    \u001B[49m\u001B[43m*\u001B[49m\u001B[43m*\u001B[49m\u001B[43mkwargs\u001B[49m\u001B[43m,\u001B[49m\n\u001B[32m   2855\u001B[39m \u001B[43m\u001B[49m\u001B[43m)\u001B[49m\u001B[43m:\u001B[49m\n\u001B[32m   2856\u001B[39m \u001B[43m    \u001B[49m\u001B[38;5;28;43;01mif\u001B[39;49;00m\u001B[43m \u001B[49m\u001B[43mstream_mode\u001B[49m\u001B[43m \u001B[49m\u001B[43m==\u001B[49m\u001B[43m \u001B[49m\u001B[33;43m\"\u001B[39;49m\u001B[33;43mvalues\u001B[39;49m\u001B[33;43m\"\u001B[39;49m\u001B[43m:\u001B[49m\n\u001B[32m   2857\u001B[39m \u001B[43m        \u001B[49m\u001B[38;5;28;43;01mif\u001B[39;49;00m\u001B[43m \u001B[49m\u001B[38;5;28;43mlen\u001B[39;49m\u001B[43m(\u001B[49m\u001B[43mchunk\u001B[49m\u001B[43m)\u001B[49m\u001B[43m \u001B[49m\u001B[43m==\u001B[49m\u001B[43m \u001B[49m\u001B[32;43m2\u001B[39;49m\u001B[43m:\u001B[49m\n",
      "\u001B[36mFile \u001B[39m\u001B[32mD:\\javaDevelopment\\program_project\\Pycharm_project\\darwinAgent\\.venv\\Lib\\site-packages\\langgraph\\pregel\\__init__.py:2534\u001B[39m, in \u001B[36mPregel.stream\u001B[39m\u001B[34m(self, input, config, stream_mode, print_mode, output_keys, interrupt_before, interrupt_after, checkpoint_during, debug, subgraphs)\u001B[39m\n\u001B[32m   2532\u001B[39m \u001B[38;5;28;01mfor\u001B[39;00m task \u001B[38;5;129;01min\u001B[39;00m loop.match_cached_writes():\n\u001B[32m   2533\u001B[39m     loop.output_writes(task.id, task.writes, cached=\u001B[38;5;28;01mTrue\u001B[39;00m)\n\u001B[32m-> \u001B[39m\u001B[32m2534\u001B[39m \u001B[43m\u001B[49m\u001B[38;5;28;43;01mfor\u001B[39;49;00m\u001B[43m \u001B[49m\u001B[43m_\u001B[49m\u001B[43m \u001B[49m\u001B[38;5;129;43;01min\u001B[39;49;00m\u001B[43m \u001B[49m\u001B[43mrunner\u001B[49m\u001B[43m.\u001B[49m\u001B[43mtick\u001B[49m\u001B[43m(\u001B[49m\n\u001B[32m   2535\u001B[39m \u001B[43m    \u001B[49m\u001B[43m[\u001B[49m\u001B[43mt\u001B[49m\u001B[43m \u001B[49m\u001B[38;5;28;43;01mfor\u001B[39;49;00m\u001B[43m \u001B[49m\u001B[43mt\u001B[49m\u001B[43m \u001B[49m\u001B[38;5;129;43;01min\u001B[39;49;00m\u001B[43m \u001B[49m\u001B[43mloop\u001B[49m\u001B[43m.\u001B[49m\u001B[43mtasks\u001B[49m\u001B[43m.\u001B[49m\u001B[43mvalues\u001B[49m\u001B[43m(\u001B[49m\u001B[43m)\u001B[49m\u001B[43m \u001B[49m\u001B[38;5;28;43;01mif\u001B[39;49;00m\u001B[43m \u001B[49m\u001B[38;5;129;43;01mnot\u001B[39;49;00m\u001B[43m \u001B[49m\u001B[43mt\u001B[49m\u001B[43m.\u001B[49m\u001B[43mwrites\u001B[49m\u001B[43m]\u001B[49m\u001B[43m,\u001B[49m\n\u001B[32m   2536\u001B[39m \u001B[43m    \u001B[49m\u001B[43mtimeout\u001B[49m\u001B[43m=\u001B[49m\u001B[38;5;28;43mself\u001B[39;49m\u001B[43m.\u001B[49m\u001B[43mstep_timeout\u001B[49m\u001B[43m,\u001B[49m\n\u001B[32m   2537\u001B[39m \u001B[43m    \u001B[49m\u001B[43mget_waiter\u001B[49m\u001B[43m=\u001B[49m\u001B[43mget_waiter\u001B[49m\u001B[43m,\u001B[49m\n\u001B[32m   2538\u001B[39m \u001B[43m    \u001B[49m\u001B[43mschedule_task\u001B[49m\u001B[43m=\u001B[49m\u001B[43mloop\u001B[49m\u001B[43m.\u001B[49m\u001B[43maccept_push\u001B[49m\u001B[43m,\u001B[49m\n\u001B[32m   2539\u001B[39m \u001B[43m\u001B[49m\u001B[43m)\u001B[49m\u001B[43m:\u001B[49m\n\u001B[32m   2540\u001B[39m \u001B[43m    \u001B[49m\u001B[38;5;66;43;03m# emit output\u001B[39;49;00m\n\u001B[32m   2541\u001B[39m \u001B[43m    \u001B[49m\u001B[38;5;28;43;01myield from\u001B[39;49;00m\u001B[43m \u001B[49m\u001B[43m_output\u001B[49m\u001B[43m(\u001B[49m\n\u001B[32m   2542\u001B[39m \u001B[43m        \u001B[49m\u001B[43mstream_mode\u001B[49m\u001B[43m,\u001B[49m\u001B[43m \u001B[49m\u001B[43mprint_mode\u001B[49m\u001B[43m,\u001B[49m\u001B[43m \u001B[49m\u001B[43msubgraphs\u001B[49m\u001B[43m,\u001B[49m\u001B[43m \u001B[49m\u001B[43mstream\u001B[49m\u001B[43m.\u001B[49m\u001B[43mget\u001B[49m\u001B[43m,\u001B[49m\u001B[43m \u001B[49m\u001B[43mqueue\u001B[49m\u001B[43m.\u001B[49m\u001B[43mEmpty\u001B[49m\n\u001B[32m   2543\u001B[39m \u001B[43m    \u001B[49m\u001B[43m)\u001B[49m\n\u001B[32m   2544\u001B[39m loop.after_tick()\n",
      "\u001B[36mFile \u001B[39m\u001B[32mD:\\javaDevelopment\\program_project\\Pycharm_project\\darwinAgent\\.venv\\Lib\\site-packages\\langgraph\\pregel\\runner.py:162\u001B[39m, in \u001B[36mPregelRunner.tick\u001B[39m\u001B[34m(self, tasks, reraise, timeout, retry_policy, get_waiter, schedule_task)\u001B[39m\n\u001B[32m    160\u001B[39m t = tasks[\u001B[32m0\u001B[39m]\n\u001B[32m    161\u001B[39m \u001B[38;5;28;01mtry\u001B[39;00m:\n\u001B[32m--> \u001B[39m\u001B[32m162\u001B[39m     \u001B[43mrun_with_retry\u001B[49m\u001B[43m(\u001B[49m\n\u001B[32m    163\u001B[39m \u001B[43m        \u001B[49m\u001B[43mt\u001B[49m\u001B[43m,\u001B[49m\n\u001B[32m    164\u001B[39m \u001B[43m        \u001B[49m\u001B[43mretry_policy\u001B[49m\u001B[43m,\u001B[49m\n\u001B[32m    165\u001B[39m \u001B[43m        \u001B[49m\u001B[43mconfigurable\u001B[49m\u001B[43m=\u001B[49m\u001B[43m{\u001B[49m\n\u001B[32m    166\u001B[39m \u001B[43m            \u001B[49m\u001B[43mCONFIG_KEY_CALL\u001B[49m\u001B[43m:\u001B[49m\u001B[43m \u001B[49m\u001B[43mpartial\u001B[49m\u001B[43m(\u001B[49m\n\u001B[32m    167\u001B[39m \u001B[43m                \u001B[49m\u001B[43m_call\u001B[49m\u001B[43m,\u001B[49m\n\u001B[32m    168\u001B[39m \u001B[43m                \u001B[49m\u001B[43mweakref\u001B[49m\u001B[43m.\u001B[49m\u001B[43mref\u001B[49m\u001B[43m(\u001B[49m\u001B[43mt\u001B[49m\u001B[43m)\u001B[49m\u001B[43m,\u001B[49m\n\u001B[32m    169\u001B[39m \u001B[43m                \u001B[49m\u001B[43mretry_policy\u001B[49m\u001B[43m=\u001B[49m\u001B[43mretry_policy\u001B[49m\u001B[43m,\u001B[49m\n\u001B[32m    170\u001B[39m \u001B[43m                \u001B[49m\u001B[43mfutures\u001B[49m\u001B[43m=\u001B[49m\u001B[43mweakref\u001B[49m\u001B[43m.\u001B[49m\u001B[43mref\u001B[49m\u001B[43m(\u001B[49m\u001B[43mfutures\u001B[49m\u001B[43m)\u001B[49m\u001B[43m,\u001B[49m\n\u001B[32m    171\u001B[39m \u001B[43m                \u001B[49m\u001B[43mschedule_task\u001B[49m\u001B[43m=\u001B[49m\u001B[43mschedule_task\u001B[49m\u001B[43m,\u001B[49m\n\u001B[32m    172\u001B[39m \u001B[43m                \u001B[49m\u001B[43msubmit\u001B[49m\u001B[43m=\u001B[49m\u001B[38;5;28;43mself\u001B[39;49m\u001B[43m.\u001B[49m\u001B[43msubmit\u001B[49m\u001B[43m,\u001B[49m\n\u001B[32m    173\u001B[39m \u001B[43m            \u001B[49m\u001B[43m)\u001B[49m\u001B[43m,\u001B[49m\n\u001B[32m    174\u001B[39m \u001B[43m        \u001B[49m\u001B[43m}\u001B[49m\u001B[43m,\u001B[49m\n\u001B[32m    175\u001B[39m \u001B[43m    \u001B[49m\u001B[43m)\u001B[49m\n\u001B[32m    176\u001B[39m     \u001B[38;5;28mself\u001B[39m.commit(t, \u001B[38;5;28;01mNone\u001B[39;00m)\n\u001B[32m    177\u001B[39m \u001B[38;5;28;01mexcept\u001B[39;00m \u001B[38;5;167;01mException\u001B[39;00m \u001B[38;5;28;01mas\u001B[39;00m exc:\n",
      "\u001B[36mFile \u001B[39m\u001B[32mD:\\javaDevelopment\\program_project\\Pycharm_project\\darwinAgent\\.venv\\Lib\\site-packages\\langgraph\\pregel\\retry.py:42\u001B[39m, in \u001B[36mrun_with_retry\u001B[39m\u001B[34m(task, retry_policy, configurable)\u001B[39m\n\u001B[32m     40\u001B[39m     task.writes.clear()\n\u001B[32m     41\u001B[39m     \u001B[38;5;66;03m# run the task\u001B[39;00m\n\u001B[32m---> \u001B[39m\u001B[32m42\u001B[39m     \u001B[38;5;28;01mreturn\u001B[39;00m \u001B[43mtask\u001B[49m\u001B[43m.\u001B[49m\u001B[43mproc\u001B[49m\u001B[43m.\u001B[49m\u001B[43minvoke\u001B[49m\u001B[43m(\u001B[49m\u001B[43mtask\u001B[49m\u001B[43m.\u001B[49m\u001B[43minput\u001B[49m\u001B[43m,\u001B[49m\u001B[43m \u001B[49m\u001B[43mconfig\u001B[49m\u001B[43m)\u001B[49m\n\u001B[32m     43\u001B[39m \u001B[38;5;28;01mexcept\u001B[39;00m ParentCommand \u001B[38;5;28;01mas\u001B[39;00m exc:\n\u001B[32m     44\u001B[39m     ns: \u001B[38;5;28mstr\u001B[39m = config[CONF][CONFIG_KEY_CHECKPOINT_NS]\n",
      "\u001B[36mFile \u001B[39m\u001B[32mD:\\javaDevelopment\\program_project\\Pycharm_project\\darwinAgent\\.venv\\Lib\\site-packages\\langgraph\\utils\\runnable.py:623\u001B[39m, in \u001B[36mRunnableSeq.invoke\u001B[39m\u001B[34m(self, input, config, **kwargs)\u001B[39m\n\u001B[32m    621\u001B[39m     \u001B[38;5;66;03m# run in context\u001B[39;00m\n\u001B[32m    622\u001B[39m     \u001B[38;5;28;01mwith\u001B[39;00m set_config_context(config, run) \u001B[38;5;28;01mas\u001B[39;00m context:\n\u001B[32m--> \u001B[39m\u001B[32m623\u001B[39m         \u001B[38;5;28minput\u001B[39m = \u001B[43mcontext\u001B[49m\u001B[43m.\u001B[49m\u001B[43mrun\u001B[49m\u001B[43m(\u001B[49m\u001B[43mstep\u001B[49m\u001B[43m.\u001B[49m\u001B[43minvoke\u001B[49m\u001B[43m,\u001B[49m\u001B[43m \u001B[49m\u001B[38;5;28;43minput\u001B[39;49m\u001B[43m,\u001B[49m\u001B[43m \u001B[49m\u001B[43mconfig\u001B[49m\u001B[43m,\u001B[49m\u001B[43m \u001B[49m\u001B[43m*\u001B[49m\u001B[43m*\u001B[49m\u001B[43mkwargs\u001B[49m\u001B[43m)\u001B[49m\n\u001B[32m    624\u001B[39m \u001B[38;5;28;01melse\u001B[39;00m:\n\u001B[32m    625\u001B[39m     \u001B[38;5;28minput\u001B[39m = step.invoke(\u001B[38;5;28minput\u001B[39m, config)\n",
      "\u001B[36mFile \u001B[39m\u001B[32mD:\\javaDevelopment\\program_project\\Pycharm_project\\darwinAgent\\.venv\\Lib\\site-packages\\langgraph\\utils\\runnable.py:377\u001B[39m, in \u001B[36mRunnableCallable.invoke\u001B[39m\u001B[34m(self, input, config, **kwargs)\u001B[39m\n\u001B[32m    375\u001B[39m         run_manager.on_chain_end(ret)\n\u001B[32m    376\u001B[39m \u001B[38;5;28;01melse\u001B[39;00m:\n\u001B[32m--> \u001B[39m\u001B[32m377\u001B[39m     ret = \u001B[38;5;28;43mself\u001B[39;49m\u001B[43m.\u001B[49m\u001B[43mfunc\u001B[49m\u001B[43m(\u001B[49m\u001B[43m*\u001B[49m\u001B[43margs\u001B[49m\u001B[43m,\u001B[49m\u001B[43m \u001B[49m\u001B[43m*\u001B[49m\u001B[43m*\u001B[49m\u001B[43mkwargs\u001B[49m\u001B[43m)\u001B[49m\n\u001B[32m    378\u001B[39m \u001B[38;5;28;01mif\u001B[39;00m \u001B[38;5;28mself\u001B[39m.recurse \u001B[38;5;129;01mand\u001B[39;00m \u001B[38;5;28misinstance\u001B[39m(ret, Runnable):\n\u001B[32m    379\u001B[39m     \u001B[38;5;28;01mreturn\u001B[39;00m ret.invoke(\u001B[38;5;28minput\u001B[39m, config)\n",
      "\u001B[36mCell\u001B[39m\u001B[36m \u001B[39m\u001B[32mIn[20]\u001B[39m\u001B[32m, line 23\u001B[39m, in \u001B[36mchat_node\u001B[39m\u001B[34m(state)\u001B[39m\n\u001B[32m     21\u001B[39m messages = [system_msg] + state[\u001B[33m\"\u001B[39m\u001B[33mmessages\u001B[39m\u001B[33m\"\u001B[39m]\n\u001B[32m     22\u001B[39m response = llm.invoke(messages)\n\u001B[32m---> \u001B[39m\u001B[32m23\u001B[39m \u001B[38;5;28;01mreturn\u001B[39;00m {\u001B[33m\"\u001B[39m\u001B[33mmessages\u001B[39m\u001B[33m\"\u001B[39m: [AIMessage(content=\u001B[43mresponse\u001B[49m\u001B[43m.\u001B[49m\u001B[43mcontent\u001B[49m)]}\n",
      "\u001B[31mAttributeError\u001B[39m: 'str' object has no attribute 'content'",
      "During task with name 'chat' and id '76b55182-5461-f962-214e-0411c378e149'"
     ]
    }
   ],
   "execution_count": 20
  }
 ],
 "metadata": {
  "kernelspec": {
   "display_name": "Python 3",
   "language": "python",
   "name": "python3"
  },
  "language_info": {
   "codemirror_mode": {
    "name": "ipython",
    "version": 3
   },
   "file_extension": ".py",
   "mimetype": "text/x-python",
   "name": "python",
   "nbconvert_exporter": "python",
   "pygments_lexer": "ipython3",
   "version": "3.8.0"
  }
 },
 "nbformat": 4,
 "nbformat_minor": 4
}
